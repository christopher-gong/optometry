{
 "cells": [
  {
   "cell_type": "code",
   "execution_count": 1,
   "metadata": {},
   "outputs": [],
   "source": [
    "import csv\n",
    "import numpy as np\n",
    "import pandas as pd\n",
    "from scipy.optimize import curve_fit\n",
    "import matplotlib.pyplot as plt\n",
    "from pylab import *\n",
    "Multimeas = pd.read_csv(\"C:/Users/chris/Desktop/projects/optometry/jupyter/opt.csv\")\n",
    "roi_df = Multimeas"
   ]
  },
  {
   "cell_type": "code",
   "execution_count": 2,
   "metadata": {},
   "outputs": [],
   "source": [
    "def gauss(x,mu,sigma,A):\n",
    "    return A*exp(-(x-mu)**2/2/sigma**2)\n",
    "\n",
    "def bimodal(x,mu1,sigma1,A1,mu2,sigma2,A2):\n",
    "    return gauss(x,mu1,sigma1,A1)+gauss(x,mu2,sigma2,A2)"
   ]
  },
  {
   "cell_type": "code",
   "execution_count": 11,
   "metadata": {},
   "outputs": [],
   "source": [
    "def bimodalGraph(col, table, expected=None): #change bins?\n",
    "    '''Bimodal Graph for histogram of col from table with 100 bins.\n",
    "    Based upon: https://stackoverflow.com/questions/35990467/fit-two-gaussians-to-a-histogram-from-one-set-of-data-python\n",
    "    '''\n",
    "    nparr = np.asarray(table[col].tolist())\n",
    "    y,x,_=hist(nparr,100,alpha=.3,label='data')\n",
    "    x=(x[1:]+x[:-1])/2\n",
    "    if expected is None:\n",
    "        expected = getBimodalExpected(nparr, x, y)\n",
    "    params,cov=curve_fit(bimodal,x,y,expected)\n",
    "    sigma=sqrt(diag(cov))\n",
    "    plot(x,bimodal(x,*params),color='red',lw=3,label='model')\n",
    "    legend()\n",
    "    return pd.DataFrame(data={'params':params,'sigma':sigma},index=bimodal.__code__.co_varnames[1:])\n",
    "\n",
    "def getBimodalExpected(nparr, x, y):\n",
    "    '''Get's an exected bimodal tuple from the data to be passed into scipy's curve fit fn.\n",
    "    Procedure: \n",
    "        1. Find the peak of zeros (largest peak within the first half of data)\n",
    "        2. Find the min in the first half (end of first normal, start of second)\n",
    "        3. Find location matching min in second half (end of second normal)\n",
    "        4. Find max past 4 times the location of peak of zeros (peak of second normal)\n",
    "        5. Manipulate and return.\n",
    "        '''\n",
    "    #find where max occurs in the first half (0 - 100) (zero's peak, middle of first)\n",
    "    maxloc = np.argmax(y[0:50])\n",
    "    maxlocx = x[maxloc]\n",
    "    ymax = np.max(y[0:50])\n",
    "    \n",
    "    #find min in the first half (end of first normal, start of second)\n",
    "    miny = np.argmin(y[0:50])\n",
    "    minx = x[miny]\n",
    "    \n",
    "    #find matching end location in the second half (end of second)\n",
    "    endminx = x[50 + find_nearest(nparr[50:100], miny)]\n",
    "    \n",
    "    #find max after zero's peak times 4 (middle of second)\n",
    "    maxlocsecond = maxloc * 4 + np.argmax(y[maxloc * 4 :100])\n",
    "    ymaxsecond = np.max(y[maxloc * 4:100])\n",
    "    maxlocsecondx = x[maxlocsecond]\n",
    "    \n",
    "    return (maxlocx,20,ymax,maxlocsecondx,30,ymaxsecond)\n",
    "\n",
    "def find_nearest(array, value):\n",
    "    '''This function finds the location of the nearest values.'''\n",
    "    array = np.asarray(array)\n",
    "    idx = (np.abs(array - value)).argmin()\n",
    "    return idx"
   ]
  },
  {
   "cell_type": "code",
   "execution_count": 12,
   "metadata": {},
   "outputs": [
    {
     "data": {
      "text/html": [
       "<div>\n",
       "<style scoped>\n",
       "    .dataframe tbody tr th:only-of-type {\n",
       "        vertical-align: middle;\n",
       "    }\n",
       "\n",
       "    .dataframe tbody tr th {\n",
       "        vertical-align: top;\n",
       "    }\n",
       "\n",
       "    .dataframe thead th {\n",
       "        text-align: right;\n",
       "    }\n",
       "</style>\n",
       "<table border=\"1\" class=\"dataframe\">\n",
       "  <thead>\n",
       "    <tr style=\"text-align: right;\">\n",
       "      <th></th>\n",
       "      <th>params</th>\n",
       "      <th>sigma</th>\n",
       "    </tr>\n",
       "  </thead>\n",
       "  <tbody>\n",
       "    <tr>\n",
       "      <th>mu1</th>\n",
       "      <td>315.492983</td>\n",
       "      <td>1.172215</td>\n",
       "    </tr>\n",
       "    <tr>\n",
       "      <th>sigma1</th>\n",
       "      <td>52.202482</td>\n",
       "      <td>1.298449</td>\n",
       "    </tr>\n",
       "    <tr>\n",
       "      <th>A1</th>\n",
       "      <td>1823.897681</td>\n",
       "      <td>37.350458</td>\n",
       "    </tr>\n",
       "    <tr>\n",
       "      <th>mu2</th>\n",
       "      <td>3893.828414</td>\n",
       "      <td>33.890067</td>\n",
       "    </tr>\n",
       "    <tr>\n",
       "      <th>sigma2</th>\n",
       "      <td>1489.606011</td>\n",
       "      <td>34.422399</td>\n",
       "    </tr>\n",
       "    <tr>\n",
       "      <th>A2</th>\n",
       "      <td>212.877325</td>\n",
       "      <td>4.198295</td>\n",
       "    </tr>\n",
       "  </tbody>\n",
       "</table>\n",
       "</div>"
      ],
      "text/plain": [
       "             params      sigma\n",
       "mu1      315.492983   1.172215\n",
       "sigma1    52.202482   1.298449\n",
       "A1      1823.897681  37.350458\n",
       "mu2     3893.828414  33.890067\n",
       "sigma2  1489.606011  34.422399\n",
       "A2       212.877325   4.198295"
      ]
     },
     "execution_count": 12,
     "metadata": {},
     "output_type": "execute_result"
    },
    {
     "data": {
      "image/png": "[encoded data removed]",
      "text/plain": [
       "<Figure size 432x288 with 1 Axes>"
      ]
     },
     "metadata": {
      "needs_background": "light"
     },
     "output_type": "display_data"
    }
   ],
   "source": [
    "bimodalGraph(\"DAPI\", roi_df)"
   ]
  },
  {
   "cell_type": "code",
   "execution_count": null,
   "metadata": {},
   "outputs": [],
   "source": []
  }
 ],
 "metadata": {
  "kernelspec": {
   "display_name": "Python 3",
   "language": "python",
   "name": "python3"
  },
  "language_info": {
   "codemirror_mode": {
    "name": "ipython",
    "version": 3
   },
   "file_extension": ".py",
   "mimetype": "text/x-python",
   "name": "python",
   "nbconvert_exporter": "python",
   "pygments_lexer": "ipython3",
   "version": "3.7.1"
  }
 },
 "nbformat": 4,
 "nbformat_minor": 2
}
