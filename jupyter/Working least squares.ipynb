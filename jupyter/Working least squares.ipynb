{
 "cells": [
  {
   "cell_type": "code",
   "execution_count": 26,
   "metadata": {},
   "outputs": [],
   "source": [
    "#from testing file\n",
    "import csv\n",
    "import numpy as np\n",
    "import pandas as pd\n",
    "from scipy.optimize import curve_fit\n",
    "import matplotlib.pyplot as plt\n",
    "from pylab import *\n",
    "Multimeas = pd.read_csv(\"C:/Users/chris/Desktop/projects/optometry/jupyter/opt.csv\")\n",
    "roi_df = Multimeas\n",
    "def gauss(x,mu,sigma,A):\n",
    "    return A*exp(-(x-mu)**2/2/sigma**2)\n",
    "\n",
    "def bimodal(x,mu1,sigma1,A1,mu2,sigma2,A2):\n",
    "    return gauss(x,mu1,sigma1,A1)+gauss(x,mu2,sigma2,A2)\n",
    "\n",
    "def gaussGraph(col, table, expected=None):\n",
    "    nparr = np.asarray(table[col].tolist())\n",
    "    y,x,_=hist(nparr,100,alpha=.3,label='data')\n",
    "    x=(x[1:]+x[:-1])/2\n",
    "    if expected is None:\n",
    "        expected = getGaussExpected(nparr, x, y)\n",
    "    print(expected)\n",
    "    params,cov=curve_fit(gauss,x,y,expected)\n",
    "    sigma=sqrt(diag(cov))\n",
    "    print(\"Least Squares Sum:\", least_squares(params, x, y))\n",
    "    plot(x,gauss(x,*params),color='red',lw=3,label='model')\n",
    "    legend()\n",
    "    return pd.DataFrame(data={'params':params,'sigma':sigma},index=gauss.__code__.co_varnames[1:])\n",
    "    \n",
    "    \n",
    "def bimodalGraph(col, table, expected=None): #change bins?\n",
    "    '''Bimodal Graph for histogram of col from table with 100 bins.\n",
    "    Based upon: https://stackoverflow.com/questions/35990467/fit-two-gaussians-to-a-histogram-from-one-set-of-data-python\n",
    "    '''\n",
    "    nparr = np.asarray(table[col].tolist())\n",
    "    y,x,_=hist(nparr,100,alpha=.3,label='data')\n",
    "    x=(x[1:]+x[:-1])/2\n",
    "    if expected is None:\n",
    "        print(\"getBimodalExpected was called.\")\n",
    "        expected = getBimodalExpected(nparr, x, y)\n",
    "    print(\"Expected values: \")\n",
    "    print(expected)\n",
    "    params,cov=curve_fit(bimodal,x,y,expected)\n",
    "    sigma=sqrt(diag(cov))\n",
    "    print(\"Least Squares Sum:\", least_squares(params, x, y))\n",
    "    plot(x,bimodal(x,*params),color='red',lw=3,label='model')\n",
    "    legend()\n",
    "    return pd.DataFrame(data={'params':params,'sigma':sigma},index=bimodal.__code__.co_varnames[1:])\n",
    "\n",
    "def getGaussExpected(nparr, x, y):\n",
    "    maxloc = np.argmax(y)\n",
    "    maxlocx = x[maxloc]\n",
    "    ymax = np.max(y)\n",
    "    return [maxlocx,20,ymax]\n",
    "\n",
    "def getBimodalExpected(nparr, x, y):\n",
    "    '''Get's an exected bimodal tuple from the data to be passed into scipy's curve fit fn.\n",
    "    Procedure: \n",
    "        1. Find the peak of zeros (largest peak within the first half of data)\n",
    "        2. Find the min in the first half (end of first normal, start of second)\n",
    "        3. Find location matching min in second half (end of second normal)\n",
    "        4. Find max past 4 times the location of peak of zeros (peak of second normal)\n",
    "        5. Manipulate and return.\n",
    "        '''\n",
    "    #find where max occurs in the first half (0 - 100) (zero's peak, middle of first)\n",
    "    maxloc = np.argmax(y[0:50])\n",
    "    maxlocx = x[maxloc]\n",
    "    ymax = np.max(y[0:50])\n",
    "    \n",
    "    #find min in the first half (end of first normal, start of second)\n",
    "    miny = np.argmin(y[0:50])\n",
    "    minx = x[miny]\n",
    "    \n",
    "    #find matching end location in the second half (end of second)\n",
    "    endminx = x[50 + find_nearest(nparr[50:100], miny)]\n",
    "    \n",
    "    #find max after zero's peak times 4 (middle of second)\n",
    "    maxlocsecond = maxloc * 4 + np.argmax(y[maxloc * 4 :100])\n",
    "    ymaxsecond = np.max(y[maxloc * 4:100])\n",
    "    maxlocsecondx = x[maxlocsecond]\n",
    "    \n",
    "    return (maxlocx,20,ymax,maxlocsecondx,30,ymaxsecond)\n",
    "\n",
    "def find_nearest(array, value):\n",
    "    '''This function finds the location of the nearest values.'''\n",
    "    array = np.asarray(array)\n",
    "    idx = (np.abs(array - value)).argmin()\n",
    "    return idx"
   ]
  },
  {
   "cell_type": "code",
   "execution_count": 3,
   "metadata": {},
   "outputs": [],
   "source": [
    "#roi_df"
   ]
  },
  {
   "cell_type": "code",
   "execution_count": 4,
   "metadata": {},
   "outputs": [
    {
     "data": {
      "text/plain": [
       "array([[<matplotlib.axes._subplots.AxesSubplot object at 0x000002321C6F3860>]],\n",
       "      dtype=object)"
      ]
     },
     "execution_count": 4,
     "metadata": {},
     "output_type": "execute_result"
    },
    {
     "data": {
      "image/png": "[encoded data removed]",
      "text/plain": [
       "<Figure size 432x288 with 1 Axes>"
      ]
     },
     "metadata": {
      "needs_background": "light"
     },
     "output_type": "display_data"
    }
   ],
   "source": [
    "roi_df.hist(column=\"Pax6\", bins=100)"
   ]
  },
  {
   "cell_type": "code",
   "execution_count": 5,
   "metadata": {},
   "outputs": [
    {
     "data": {
      "text/plain": [
       "array([[<matplotlib.axes._subplots.AxesSubplot object at 0x0000023219ABADD8>]],\n",
       "      dtype=object)"
      ]
     },
     "execution_count": 5,
     "metadata": {},
     "output_type": "execute_result"
    },
    {
     "data": {
      "image/png": "[encoded data removed]",
      "text/plain": [
       "<Figure size 432x288 with 1 Axes>"
      ]
     },
     "metadata": {
      "needs_background": "light"
     },
     "output_type": "display_data"
    }
   ],
   "source": [
    "roi_df.hist(column=\"SCGN\", bins=100)"
   ]
  },
  {
   "cell_type": "code",
   "execution_count": 11,
   "metadata": {},
   "outputs": [
    {
     "name": "stdout",
     "output_type": "stream",
     "text": [
      "Expected values: \n",
      "(638.766225, 40, 3123.0, 1876.9941450000001, 24, 189.0)\n"
     ]
    },
    {
     "data": {
      "text/html": [
       "<div>\n",
       "<style scoped>\n",
       "    .dataframe tbody tr th:only-of-type {\n",
       "        vertical-align: middle;\n",
       "    }\n",
       "\n",
       "    .dataframe tbody tr th {\n",
       "        vertical-align: top;\n",
       "    }\n",
       "\n",
       "    .dataframe thead th {\n",
       "        text-align: right;\n",
       "    }\n",
       "</style>\n",
       "<table border=\"1\" class=\"dataframe\">\n",
       "  <thead>\n",
       "    <tr style=\"text-align: right;\">\n",
       "      <th></th>\n",
       "      <th>params</th>\n",
       "      <th>sigma</th>\n",
       "    </tr>\n",
       "  </thead>\n",
       "  <tbody>\n",
       "    <tr>\n",
       "      <th>mu1</th>\n",
       "      <td>616.825001</td>\n",
       "      <td>1.169997</td>\n",
       "    </tr>\n",
       "    <tr>\n",
       "      <th>sigma1</th>\n",
       "      <td>104.801726</td>\n",
       "      <td>1.110690</td>\n",
       "    </tr>\n",
       "    <tr>\n",
       "      <th>A1</th>\n",
       "      <td>2987.991655</td>\n",
       "      <td>27.347335</td>\n",
       "    </tr>\n",
       "    <tr>\n",
       "      <th>mu2</th>\n",
       "      <td>225.034040</td>\n",
       "      <td>737.923782</td>\n",
       "    </tr>\n",
       "    <tr>\n",
       "      <th>sigma2</th>\n",
       "      <td>-3338.329033</td>\n",
       "      <td>404.445271</td>\n",
       "    </tr>\n",
       "    <tr>\n",
       "      <th>A2</th>\n",
       "      <td>207.225039</td>\n",
       "      <td>17.897252</td>\n",
       "    </tr>\n",
       "  </tbody>\n",
       "</table>\n",
       "</div>"
      ],
      "text/plain": [
       "             params       sigma\n",
       "mu1      616.825001    1.169997\n",
       "sigma1   104.801726    1.110690\n",
       "A1      2987.991655   27.347335\n",
       "mu2      225.034040  737.923782\n",
       "sigma2 -3338.329033  404.445271\n",
       "A2       207.225039   17.897252"
      ]
     },
     "execution_count": 11,
     "metadata": {},
     "output_type": "execute_result"
    },
    {
     "data": {
      "image/png": "[encoded data removed]",
      "text/plain": [
       "<Figure size 432x288 with 1 Axes>"
      ]
     },
     "metadata": {
      "needs_background": "light"
     },
     "output_type": "display_data"
    }
   ],
   "source": [
    "bimodalGraph(\"Pax6\", roi_df, (638.766225, 40, 3123.0, 1876.9941450000001, 24, 189.0))"
   ]
  },
  {
   "cell_type": "code",
   "execution_count": 19,
   "metadata": {},
   "outputs": [
    {
     "name": "stdout",
     "output_type": "stream",
     "text": [
      "getBimodalExpected was called.\n",
      "Expected values: \n",
      "(504.3545650000001, 20, 2698.0, 1879.8670150000003, 30, 28.0)\n"
     ]
    },
    {
     "data": {
      "text/html": [
       "<div>\n",
       "<style scoped>\n",
       "    .dataframe tbody tr th:only-of-type {\n",
       "        vertical-align: middle;\n",
       "    }\n",
       "\n",
       "    .dataframe tbody tr th {\n",
       "        vertical-align: top;\n",
       "    }\n",
       "\n",
       "    .dataframe thead th {\n",
       "        text-align: right;\n",
       "    }\n",
       "</style>\n",
       "<table border=\"1\" class=\"dataframe\">\n",
       "  <thead>\n",
       "    <tr style=\"text-align: right;\">\n",
       "      <th></th>\n",
       "      <th>params</th>\n",
       "      <th>sigma</th>\n",
       "    </tr>\n",
       "  </thead>\n",
       "  <tbody>\n",
       "    <tr>\n",
       "      <th>mu1</th>\n",
       "      <td>465.627470</td>\n",
       "      <td>1.707232</td>\n",
       "    </tr>\n",
       "    <tr>\n",
       "      <th>sigma1</th>\n",
       "      <td>81.128140</td>\n",
       "      <td>3.513121</td>\n",
       "    </tr>\n",
       "    <tr>\n",
       "      <th>A1</th>\n",
       "      <td>2485.066739</td>\n",
       "      <td>134.159866</td>\n",
       "    </tr>\n",
       "    <tr>\n",
       "      <th>mu2</th>\n",
       "      <td>668.641659</td>\n",
       "      <td>27.718638</td>\n",
       "    </tr>\n",
       "    <tr>\n",
       "      <th>sigma2</th>\n",
       "      <td>182.769247</td>\n",
       "      <td>14.676873</td>\n",
       "    </tr>\n",
       "    <tr>\n",
       "      <th>A2</th>\n",
       "      <td>847.011129</td>\n",
       "      <td>58.618608</td>\n",
       "    </tr>\n",
       "  </tbody>\n",
       "</table>\n",
       "</div>"
      ],
      "text/plain": [
       "             params       sigma\n",
       "mu1      465.627470    1.707232\n",
       "sigma1    81.128140    3.513121\n",
       "A1      2485.066739  134.159866\n",
       "mu2      668.641659   27.718638\n",
       "sigma2   182.769247   14.676873\n",
       "A2       847.011129   58.618608"
      ]
     },
     "execution_count": 19,
     "metadata": {},
     "output_type": "execute_result"
    },
    {
     "data": {
      "image/png": "[encoded data removed]",
      "text/plain": [
       "<Figure size 432x288 with 1 Axes>"
      ]
     },
     "metadata": {
      "needs_background": "light"
     },
     "output_type": "display_data"
    }
   ],
   "source": [
    "bimodalGraph(\"SCGN\", roi_df)"
   ]
  },
  {
   "cell_type": "code",
   "execution_count": 26,
   "metadata": {},
   "outputs": [
    {
     "name": "stdout",
     "output_type": "stream",
     "text": [
      "[504.3545650000001, 20, 2698.0]\n"
     ]
    },
    {
     "data": {
      "text/html": [
       "<div>\n",
       "<style scoped>\n",
       "    .dataframe tbody tr th:only-of-type {\n",
       "        vertical-align: middle;\n",
       "    }\n",
       "\n",
       "    .dataframe tbody tr th {\n",
       "        vertical-align: top;\n",
       "    }\n",
       "\n",
       "    .dataframe thead th {\n",
       "        text-align: right;\n",
       "    }\n",
       "</style>\n",
       "<table border=\"1\" class=\"dataframe\">\n",
       "  <thead>\n",
       "    <tr style=\"text-align: right;\">\n",
       "      <th></th>\n",
       "      <th>params</th>\n",
       "      <th>sigma</th>\n",
       "    </tr>\n",
       "  </thead>\n",
       "  <tbody>\n",
       "    <tr>\n",
       "      <th>mu</th>\n",
       "      <td>495.820103</td>\n",
       "      <td>4.047620</td>\n",
       "    </tr>\n",
       "    <tr>\n",
       "      <th>sigma</th>\n",
       "      <td>115.627562</td>\n",
       "      <td>4.047382</td>\n",
       "    </tr>\n",
       "    <tr>\n",
       "      <th>A</th>\n",
       "      <td>2713.591902</td>\n",
       "      <td>82.264760</td>\n",
       "    </tr>\n",
       "  </tbody>\n",
       "</table>\n",
       "</div>"
      ],
      "text/plain": [
       "            params      sigma\n",
       "mu      495.820103   4.047620\n",
       "sigma   115.627562   4.047382\n",
       "A      2713.591902  82.264760"
      ]
     },
     "execution_count": 26,
     "metadata": {},
     "output_type": "execute_result"
    },
    {
     "data": {
      "image/png": "[encoded data removed]",
      "text/plain": [
       "<Figure size 432x288 with 1 Axes>"
      ]
     },
     "metadata": {
      "needs_background": "light"
     },
     "output_type": "display_data"
    }
   ],
   "source": [
    "gaussGraph(\"SCGN\", roi_df)"
   ]
  },
  {
   "cell_type": "code",
   "execution_count": 7,
   "metadata": {},
   "outputs": [
    {
     "data": {
      "image/png": "[encoded data removed]",
      "text/plain": [
       "<Figure size 432x288 with 1 Axes>"
      ]
     },
     "metadata": {
      "needs_background": "light"
     },
     "output_type": "display_data"
    }
   ],
   "source": [
    "    nparr = np.asarray(roi_df['DAPI'].tolist())\n",
    "    y,x,_=hist(nparr,100,alpha=.3,label='data')\n",
    "    x=(x[1:]+x[:-1])/2"
   ]
  },
  {
   "cell_type": "code",
   "execution_count": 8,
   "metadata": {},
   "outputs": [
    {
     "data": {
      "text/plain": [
       "(array([ 190.630955,  287.982865,  385.334775,  482.686685,  580.038595,\n",
       "         677.390505,  774.742415,  872.094325,  969.446235, 1066.798145,\n",
       "        1164.150055, 1261.501965, 1358.853875, 1456.205785, 1553.557695,\n",
       "        1650.909605, 1748.261515, 1845.613425, 1942.965335, 2040.317245,\n",
       "        2137.669155, 2235.021065, 2332.372975, 2429.724885, 2527.076795,\n",
       "        2624.428705, 2721.780615, 2819.132525, 2916.484435, 3013.836345,\n",
       "        3111.188255, 3208.540165, 3305.892075, 3403.243985, 3500.595895,\n",
       "        3597.947805, 3695.299715, 3792.651625, 3890.003535, 3987.355445,\n",
       "        4084.707355, 4182.059265, 4279.411175, 4376.763085, 4474.114995,\n",
       "        4571.466905, 4668.818815, 4766.170725, 4863.522635, 4960.874545,\n",
       "        5058.226455, 5155.578365, 5252.930275, 5350.282185, 5447.634095,\n",
       "        5544.986005, 5642.337915, 5739.689825, 5837.041735, 5934.393645,\n",
       "        6031.745555, 6129.097465, 6226.449375, 6323.801285, 6421.153195,\n",
       "        6518.505105, 6615.857015, 6713.208925, 6810.560835, 6907.912745,\n",
       "        7005.264655, 7102.616565, 7199.968475, 7297.320385, 7394.672295,\n",
       "        7492.024205, 7589.376115, 7686.728025, 7784.079935, 7881.431845,\n",
       "        7978.783755, 8076.135665, 8173.487575, 8270.839485, 8368.191395,\n",
       "        8465.543305, 8562.895215, 8660.247125, 8757.599035, 8854.950945,\n",
       "        8952.302855, 9049.654765, 9147.006675, 9244.358585, 9341.710495,\n",
       "        9439.062405, 9536.414315, 9633.766225, 9731.118135, 9828.470045]),\n",
       " array([1.08e+02, 1.60e+03, 7.56e+02, 8.50e+01, 4.10e+01, 3.00e+01,\n",
       "        1.70e+01, 1.70e+01, 1.40e+01, 9.00e+00, 1.40e+01, 2.30e+01,\n",
       "        2.80e+01, 3.40e+01, 2.50e+01, 3.40e+01, 4.70e+01, 6.40e+01,\n",
       "        6.00e+01, 9.30e+01, 8.80e+01, 1.05e+02, 1.48e+02, 1.36e+02,\n",
       "        1.72e+02, 1.77e+02, 1.68e+02, 1.79e+02, 1.85e+02, 2.15e+02,\n",
       "        2.15e+02, 2.17e+02, 2.08e+02, 2.12e+02, 2.13e+02, 2.27e+02,\n",
       "        2.18e+02, 2.19e+02, 2.03e+02, 2.01e+02, 1.89e+02, 2.08e+02,\n",
       "        2.04e+02, 1.80e+02, 1.95e+02, 1.61e+02, 1.57e+02, 1.44e+02,\n",
       "        1.53e+02, 1.52e+02, 1.59e+02, 1.64e+02, 1.22e+02, 1.42e+02,\n",
       "        1.05e+02, 1.06e+02, 9.70e+01, 1.05e+02, 1.19e+02, 8.60e+01,\n",
       "        9.10e+01, 8.50e+01, 7.90e+01, 5.50e+01, 6.50e+01, 6.20e+01,\n",
       "        6.90e+01, 3.90e+01, 5.10e+01, 3.70e+01, 3.50e+01, 4.40e+01,\n",
       "        2.90e+01, 2.40e+01, 2.20e+01, 1.40e+01, 1.80e+01, 1.60e+01,\n",
       "        1.50e+01, 1.10e+01, 8.00e+00, 1.00e+01, 7.00e+00, 4.00e+00,\n",
       "        2.00e+00, 5.00e+00, 7.00e+00, 4.00e+00, 4.00e+00, 2.00e+00,\n",
       "        1.00e+00, 1.00e+00, 0.00e+00, 0.00e+00, 0.00e+00, 0.00e+00,\n",
       "        1.00e+00, 0.00e+00, 0.00e+00, 2.00e+00]))"
      ]
     },
     "execution_count": 8,
     "metadata": {},
     "output_type": "execute_result"
    }
   ],
   "source": [
    "x, y"
   ]
  },
  {
   "cell_type": "code",
   "execution_count": 37,
   "metadata": {},
   "outputs": [],
   "source": [
    "    miny = np.argmin(y[0:50])\n",
    "    minx = x[miny]"
   ]
  },
  {
   "cell_type": "code",
   "execution_count": 41,
   "metadata": {},
   "outputs": [
    {
     "data": {
      "text/plain": [
       "9"
      ]
     },
     "execution_count": 41,
     "metadata": {},
     "output_type": "execute_result"
    }
   ],
   "source": [
    "miny"
   ]
  },
  {
   "cell_type": "code",
   "execution_count": 58,
   "metadata": {},
   "outputs": [
    {
     "data": {
      "text/plain": [
       "446.0"
      ]
     },
     "execution_count": 58,
     "metadata": {},
     "output_type": "execute_result"
    }
   ],
   "source": [
    "miny = np.argmin(y[0:50])\n",
    "sum = 0\n",
    "for i in range(miny):\n",
    "    sum += i * y[i]\n",
    "avg = sum / miny\n",
    "avg"
   ]
  },
  {
   "cell_type": "code",
   "execution_count": 59,
   "metadata": {},
   "outputs": [
    {
     "data": {
      "text/plain": [
       "7653.151391565583"
      ]
     },
     "execution_count": 59,
     "metadata": {},
     "output_type": "execute_result"
    }
   ],
   "source": [
    "var = 0\n",
    "for i in range(miny):\n",
    "    var += y[i] * (i - avg) ** 2\n",
    "var *= (1 / miny)\n",
    "stddev = var ** (1 / 2)\n",
    "stddev"
   ]
  },
  {
   "cell_type": "code",
   "execution_count": 9,
   "metadata": {},
   "outputs": [
    {
     "name": "stdout",
     "output_type": "stream",
     "text": [
      "getBimodalExpected was called.\n",
      "Expected values: \n",
      "(287.982865, 20, 1600.0, 3597.947805, 30, 227.0)\n"
     ]
    },
    {
     "data": {
      "text/html": [
       "<div>\n",
       "<style scoped>\n",
       "    .dataframe tbody tr th:only-of-type {\n",
       "        vertical-align: middle;\n",
       "    }\n",
       "\n",
       "    .dataframe tbody tr th {\n",
       "        vertical-align: top;\n",
       "    }\n",
       "\n",
       "    .dataframe thead th {\n",
       "        text-align: right;\n",
       "    }\n",
       "</style>\n",
       "<table border=\"1\" class=\"dataframe\">\n",
       "  <thead>\n",
       "    <tr style=\"text-align: right;\">\n",
       "      <th></th>\n",
       "      <th>params</th>\n",
       "      <th>sigma</th>\n",
       "    </tr>\n",
       "  </thead>\n",
       "  <tbody>\n",
       "    <tr>\n",
       "      <th>mu1</th>\n",
       "      <td>315.492983</td>\n",
       "      <td>1.172215</td>\n",
       "    </tr>\n",
       "    <tr>\n",
       "      <th>sigma1</th>\n",
       "      <td>52.202482</td>\n",
       "      <td>1.298449</td>\n",
       "    </tr>\n",
       "    <tr>\n",
       "      <th>A1</th>\n",
       "      <td>1823.897681</td>\n",
       "      <td>37.350458</td>\n",
       "    </tr>\n",
       "    <tr>\n",
       "      <th>mu2</th>\n",
       "      <td>3893.828414</td>\n",
       "      <td>33.890067</td>\n",
       "    </tr>\n",
       "    <tr>\n",
       "      <th>sigma2</th>\n",
       "      <td>1489.606011</td>\n",
       "      <td>34.422399</td>\n",
       "    </tr>\n",
       "    <tr>\n",
       "      <th>A2</th>\n",
       "      <td>212.877325</td>\n",
       "      <td>4.198295</td>\n",
       "    </tr>\n",
       "  </tbody>\n",
       "</table>\n",
       "</div>"
      ],
      "text/plain": [
       "             params      sigma\n",
       "mu1      315.492983   1.172215\n",
       "sigma1    52.202482   1.298449\n",
       "A1      1823.897681  37.350458\n",
       "mu2     3893.828414  33.890067\n",
       "sigma2  1489.606011  34.422399\n",
       "A2       212.877325   4.198295"
      ]
     },
     "execution_count": 9,
     "metadata": {},
     "output_type": "execute_result"
    },
    {
     "data": {
      "image/png": "[encoded data removed]",
      "text/plain": [
       "<Figure size 432x288 with 1 Axes>"
      ]
     },
     "metadata": {
      "needs_background": "light"
     },
     "output_type": "display_data"
    }
   ],
   "source": [
    "bimodalGraph(\"DAPI\", roi_df)"
   ]
  },
  {
   "cell_type": "code",
   "execution_count": 66,
   "metadata": {},
   "outputs": [
    {
     "name": "stdout",
     "output_type": "stream",
     "text": [
      "Expected values: \n",
      "(287.982865, 7653, 1600.0, 3597.947805, 30, 227.0)\n"
     ]
    },
    {
     "data": {
      "text/html": [
       "<div>\n",
       "<style scoped>\n",
       "    .dataframe tbody tr th:only-of-type {\n",
       "        vertical-align: middle;\n",
       "    }\n",
       "\n",
       "    .dataframe tbody tr th {\n",
       "        vertical-align: top;\n",
       "    }\n",
       "\n",
       "    .dataframe thead th {\n",
       "        text-align: right;\n",
       "    }\n",
       "</style>\n",
       "<table border=\"1\" class=\"dataframe\">\n",
       "  <thead>\n",
       "    <tr style=\"text-align: right;\">\n",
       "      <th></th>\n",
       "      <th>params</th>\n",
       "      <th>sigma</th>\n",
       "    </tr>\n",
       "  </thead>\n",
       "  <tbody>\n",
       "    <tr>\n",
       "      <th>mu1</th>\n",
       "      <td>315.492989</td>\n",
       "      <td>1.172212</td>\n",
       "    </tr>\n",
       "    <tr>\n",
       "      <th>sigma1</th>\n",
       "      <td>52.202472</td>\n",
       "      <td>1.298445</td>\n",
       "    </tr>\n",
       "    <tr>\n",
       "      <th>A1</th>\n",
       "      <td>1823.897703</td>\n",
       "      <td>37.350129</td>\n",
       "    </tr>\n",
       "    <tr>\n",
       "      <th>mu2</th>\n",
       "      <td>3893.834293</td>\n",
       "      <td>33.890974</td>\n",
       "    </tr>\n",
       "    <tr>\n",
       "      <th>sigma2</th>\n",
       "      <td>1489.612042</td>\n",
       "      <td>34.423397</td>\n",
       "    </tr>\n",
       "    <tr>\n",
       "      <th>A2</th>\n",
       "      <td>212.876896</td>\n",
       "      <td>4.198242</td>\n",
       "    </tr>\n",
       "  </tbody>\n",
       "</table>\n",
       "</div>"
      ],
      "text/plain": [
       "             params      sigma\n",
       "mu1      315.492989   1.172212\n",
       "sigma1    52.202472   1.298445\n",
       "A1      1823.897703  37.350129\n",
       "mu2     3893.834293  33.890974\n",
       "sigma2  1489.612042  34.423397\n",
       "A2       212.876896   4.198242"
      ]
     },
     "execution_count": 66,
     "metadata": {},
     "output_type": "execute_result"
    },
    {
     "data": {
      "image/png": "[encoded data removed]",
      "text/plain": [
       "<Figure size 432x288 with 1 Axes>"
      ]
     },
     "metadata": {
      "needs_background": "light"
     },
     "output_type": "display_data"
    }
   ],
   "source": [
    "bimodalGraph(\"DAPI\", roi_df, (287.982865, 7653, 1600.0, 3597.947805, 30, 227.0))"
   ]
  },
  {
   "cell_type": "code",
   "execution_count": 27,
   "metadata": {},
   "outputs": [
    {
     "name": "stdout",
     "output_type": "stream",
     "text": [
      "getBimodalExpected was called.\n",
      "Expected values: \n",
      "(287.982865, 20, 1600.0, 3597.947805, 30, 227.0)\n",
      "Least Squares Sum: 29688.228209034045\n"
     ]
    },
    {
     "data": {
      "text/html": [
       "<div>\n",
       "<style scoped>\n",
       "    .dataframe tbody tr th:only-of-type {\n",
       "        vertical-align: middle;\n",
       "    }\n",
       "\n",
       "    .dataframe tbody tr th {\n",
       "        vertical-align: top;\n",
       "    }\n",
       "\n",
       "    .dataframe thead th {\n",
       "        text-align: right;\n",
       "    }\n",
       "</style>\n",
       "<table border=\"1\" class=\"dataframe\">\n",
       "  <thead>\n",
       "    <tr style=\"text-align: right;\">\n",
       "      <th></th>\n",
       "      <th>params</th>\n",
       "      <th>sigma</th>\n",
       "    </tr>\n",
       "  </thead>\n",
       "  <tbody>\n",
       "    <tr>\n",
       "      <th>mu1</th>\n",
       "      <td>315.492983</td>\n",
       "      <td>1.172215</td>\n",
       "    </tr>\n",
       "    <tr>\n",
       "      <th>sigma1</th>\n",
       "      <td>52.202482</td>\n",
       "      <td>1.298449</td>\n",
       "    </tr>\n",
       "    <tr>\n",
       "      <th>A1</th>\n",
       "      <td>1823.897681</td>\n",
       "      <td>37.350458</td>\n",
       "    </tr>\n",
       "    <tr>\n",
       "      <th>mu2</th>\n",
       "      <td>3893.828414</td>\n",
       "      <td>33.890067</td>\n",
       "    </tr>\n",
       "    <tr>\n",
       "      <th>sigma2</th>\n",
       "      <td>1489.606011</td>\n",
       "      <td>34.422399</td>\n",
       "    </tr>\n",
       "    <tr>\n",
       "      <th>A2</th>\n",
       "      <td>212.877325</td>\n",
       "      <td>4.198295</td>\n",
       "    </tr>\n",
       "  </tbody>\n",
       "</table>\n",
       "</div>"
      ],
      "text/plain": [
       "             params      sigma\n",
       "mu1      315.492983   1.172215\n",
       "sigma1    52.202482   1.298449\n",
       "A1      1823.897681  37.350458\n",
       "mu2     3893.828414  33.890067\n",
       "sigma2  1489.606011  34.422399\n",
       "A2       212.877325   4.198295"
      ]
     },
     "execution_count": 27,
     "metadata": {},
     "output_type": "execute_result"
    },
    {
     "data": {
      "image/png": "[encoded data removed]",
      "text/plain": [
       "<Figure size 432x288 with 1 Axes>"
      ]
     },
     "metadata": {
      "needs_background": "light"
     },
     "output_type": "display_data"
    }
   ],
   "source": [
    "bimodalGraph(\"DAPI\", roi_df)"
   ]
  },
  {
   "cell_type": "code",
   "execution_count": 28,
   "metadata": {},
   "outputs": [
    {
     "name": "stdout",
     "output_type": "stream",
     "text": [
      "[287.982865, 20, 1600.0]\n",
      "Least Squares Sum: 1258039.4470185917\n"
     ]
    },
    {
     "data": {
      "text/html": [
       "<div>\n",
       "<style scoped>\n",
       "    .dataframe tbody tr th:only-of-type {\n",
       "        vertical-align: middle;\n",
       "    }\n",
       "\n",
       "    .dataframe tbody tr th {\n",
       "        vertical-align: top;\n",
       "    }\n",
       "\n",
       "    .dataframe thead th {\n",
       "        text-align: right;\n",
       "    }\n",
       "</style>\n",
       "<table border=\"1\" class=\"dataframe\">\n",
       "  <thead>\n",
       "    <tr style=\"text-align: right;\">\n",
       "      <th></th>\n",
       "      <th>params</th>\n",
       "      <th>sigma</th>\n",
       "    </tr>\n",
       "  </thead>\n",
       "  <tbody>\n",
       "    <tr>\n",
       "      <th>mu</th>\n",
       "      <td>315.160073</td>\n",
       "      <td>7.202780</td>\n",
       "    </tr>\n",
       "    <tr>\n",
       "      <th>sigma</th>\n",
       "      <td>53.040291</td>\n",
       "      <td>7.859203</td>\n",
       "    </tr>\n",
       "    <tr>\n",
       "      <th>A</th>\n",
       "      <td>1822.510080</td>\n",
       "      <td>221.032122</td>\n",
       "    </tr>\n",
       "  </tbody>\n",
       "</table>\n",
       "</div>"
      ],
      "text/plain": [
       "            params       sigma\n",
       "mu      315.160073    7.202780\n",
       "sigma    53.040291    7.859203\n",
       "A      1822.510080  221.032122"
      ]
     },
     "execution_count": 28,
     "metadata": {},
     "output_type": "execute_result"
    },
    {
     "data": {
      "image/png": "[encoded data removed]",
      "text/plain": [
       "<Figure size 432x288 with 1 Axes>"
      ]
     },
     "metadata": {
      "needs_background": "light"
     },
     "output_type": "display_data"
    }
   ],
   "source": [
    "gaussGraph(\"DAPI\", roi_df)"
   ]
  },
  {
   "cell_type": "code",
   "execution_count": 11,
   "metadata": {},
   "outputs": [
    {
     "data": {
      "text/plain": [
       "1749.5658242040558"
      ]
     },
     "execution_count": 11,
     "metadata": {},
     "output_type": "execute_result"
    }
   ],
   "source": [
    "gauss(300, 315.160073, 53.040291, 1822.510080)"
   ]
  },
  {
   "cell_type": "code",
   "execution_count": 23,
   "metadata": {},
   "outputs": [],
   "source": [
    "def least_squares(params, x, y):\n",
    "    l = 0\n",
    "    for xcord, ycord in zip(x, y):\n",
    "        if (len(params) == 3):\n",
    "            l += (gauss(xcord, params[0], params[1], params[2]) - ycord) ** 2\n",
    "        else:\n",
    "            l += (bimodal(xcord, params[0], params[1], params[2], params[3], params[4], params[5]) - ycord) ** 2\n",
    "    return l"
   ]
  },
  {
   "cell_type": "code",
   "execution_count": 13,
   "metadata": {},
   "outputs": [
    {
     "data": {
      "text/plain": [
       "1598.305475980078"
      ]
     },
     "execution_count": 13,
     "metadata": {},
     "output_type": "execute_result"
    }
   ],
   "source": []
  },
  {
   "cell_type": "code",
   "execution_count": null,
   "metadata": {},
   "outputs": [],
   "source": []
  }
 ],
 "metadata": {
  "kernelspec": {
   "display_name": "Python 3",
   "language": "python",
   "name": "python3"
  },
  "language_info": {
   "codemirror_mode": {
    "name": "ipython",
    "version": 3
   },
   "file_extension": ".py",
   "mimetype": "text/x-python",
   "name": "python",
   "nbconvert_exporter": "python",
   "pygments_lexer": "ipython3",
   "version": "3.7.1"
  }
 },
 "nbformat": 4,
 "nbformat_minor": 2
}
