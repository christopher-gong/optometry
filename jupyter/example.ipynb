{
 "cells": [
  {
   "cell_type": "code",
   "execution_count": 1,
   "metadata": {},
   "outputs": [
    {
     "name": "stdout",
     "output_type": "stream",
     "text": [
      "[1.00588256e+00 1.98591667e-01 2.52819017e+02 1.99526159e+00\n",
      " 2.06249678e-01 1.21583329e+02] \n",
      " [2.47002802e-03 2.48835311e-03 2.72166049e+00 5.23363281e-03\n",
      " 5.27387778e-03 2.67096887e+00]\n"
     ]
    }
   ],
   "source": [
    "from pylab import *\n",
    "from scipy.optimize import curve_fit\n",
    "\n",
    "data=concatenate((normal(1,.2,5000),normal(2,.2,2500)))\n",
    "y,x,_=hist(data,100,alpha=.3,label='data')\n",
    "\n",
    "x=(x[1:]+x[:-1])/2 # for len(x)==len(y)\n",
    "\n",
    "def gauss(x,mu,sigma,A):\n",
    "    return A*exp(-(x-mu)**2/2/sigma**2)\n",
    "\n",
    "def bimodal(x,mu1,sigma1,A1,mu2,sigma2,A2):\n",
    "    return gauss(x,mu1,sigma1,A1)+gauss(x,mu2,sigma2,A2)\n",
    "\n",
    "expected=(1,.2,250,2,.2,125)\n",
    "params,cov=curve_fit(bimodal,x,y,expected)\n",
    "sigma=sqrt(diag(cov))\n",
    "plot(x,bimodal(x,*params),color='red',lw=3,label='model')\n",
    "legend()\n",
    "print(params,'\\n',sigma)  "
   ]
  },
  {
   "cell_type": "code",
   "execution_count": 2,
   "metadata": {},
   "outputs": [
    {
     "data": {
      "text/plain": [
       "[<matplotlib.lines.Line2D at 0x20769677e80>]"
      ]
     },
     "execution_count": 2,
     "metadata": {},
     "output_type": "execute_result"
    },
    {
     "data": {
      "image/png": "[encoded data removed]",
      "text/plain": [
       "<Figure size 432x288 with 1 Axes>"
      ]
     },
     "metadata": {
      "needs_background": "light"
     },
     "output_type": "display_data"
    }
   ],
   "source": [
    "plot(x,bimodal(x,*params),color='red',lw=3,label='model')"
   ]
  },
  {
   "cell_type": "code",
   "execution_count": 5,
   "metadata": {},
   "outputs": [
    {
     "data": {
      "text/plain": [
       "<a list of 100 Patch objects>"
      ]
     },
     "execution_count": 5,
     "metadata": {},
     "output_type": "execute_result"
    },
    {
     "data": {
      "image/png": "[encoded data removed]",
      "text/plain": [
       "<Figure size 432x288 with 1 Axes>"
      ]
     },
     "metadata": {
      "needs_background": "light"
     },
     "output_type": "display_data"
    }
   ],
   "source": [
    "hist(data,100,alpha=.3,label='data')[2]"
   ]
  },
  {
   "cell_type": "code",
   "execution_count": 9,
   "metadata": {},
   "outputs": [
    {
     "data": {
      "text/plain": [
       "(array([  1.,   0.,   0.,   3.,   1.,   2.,   3.,   7.,   7.,  13.,  12.,\n",
       "         17.,  28.,  27.,  40.,  43.,  60.,  66.,  85., 110., 120., 111.,\n",
       "        162., 181., 225., 236., 220., 232., 227., 243., 254., 244., 260.,\n",
       "        220., 215., 196., 179., 192., 153., 107., 113.,  84.,  68.,  63.,\n",
       "         47.,  28.,  24.,  19.,  23.,  15.,  16.,  21.,  16.,  25.,  34.,\n",
       "         29.,  31.,  37.,  61.,  58.,  67.,  73.,  93.,  90.,  95., 118.,\n",
       "        105., 119., 127., 126., 128., 110., 120., 104.,  94.,  92.,  73.,\n",
       "         62.,  73.,  62.,  50.,  44.,  41.,  29.,  19.,  17.,   7.,  14.,\n",
       "          7.,  10.,   7.,   5.,   0.,   1.,   2.,   1.,   0.,   0.,   0.,\n",
       "          1.]),\n",
       " array([0.2484756 , 0.27366295, 0.2988503 , 0.32403765, 0.349225  ,\n",
       "        0.37441235, 0.3995997 , 0.42478704, 0.44997439, 0.47516174,\n",
       "        0.50034909, 0.52553644, 0.55072379, 0.57591114, 0.60109849,\n",
       "        0.62628583, 0.65147318, 0.67666053, 0.70184788, 0.72703523,\n",
       "        0.75222258, 0.77740993, 0.80259727, 0.82778462, 0.85297197,\n",
       "        0.87815932, 0.90334667, 0.92853402, 0.95372137, 0.97890871,\n",
       "        1.00409606, 1.02928341, 1.05447076, 1.07965811, 1.10484546,\n",
       "        1.13003281, 1.15522015, 1.1804075 , 1.20559485, 1.2307822 ,\n",
       "        1.25596955, 1.2811569 , 1.30634425, 1.3315316 , 1.35671894,\n",
       "        1.38190629, 1.40709364, 1.43228099, 1.45746834, 1.48265569,\n",
       "        1.50784304, 1.53303038, 1.55821773, 1.58340508, 1.60859243,\n",
       "        1.63377978, 1.65896713, 1.68415448, 1.70934182, 1.73452917,\n",
       "        1.75971652, 1.78490387, 1.81009122, 1.83527857, 1.86046592,\n",
       "        1.88565326, 1.91084061, 1.93602796, 1.96121531, 1.98640266,\n",
       "        2.01159001, 2.03677736, 2.06196471, 2.08715205, 2.1123394 ,\n",
       "        2.13752675, 2.1627141 , 2.18790145, 2.2130888 , 2.23827615,\n",
       "        2.26346349, 2.28865084, 2.31383819, 2.33902554, 2.36421289,\n",
       "        2.38940024, 2.41458759, 2.43977493, 2.46496228, 2.49014963,\n",
       "        2.51533698, 2.54052433, 2.56571168, 2.59089903, 2.61608637,\n",
       "        2.64127372, 2.66646107, 2.69164842, 2.71683577, 2.74202312,\n",
       "        2.76721047]),\n",
       " <a list of 100 Patch objects>)"
      ]
     },
     "execution_count": 9,
     "metadata": {},
     "output_type": "execute_result"
    },
    {
     "data": {
      "image/png": "[encoded data removed]",
      "text/plain": [
       "<Figure size 432x288 with 1 Axes>"
      ]
     },
     "metadata": {
      "needs_background": "light"
     },
     "output_type": "display_data"
    }
   ],
   "source": [
    "hist(data,100,alpha=.3,label='data')"
   ]
  },
  {
   "cell_type": "code",
   "execution_count": 10,
   "metadata": {},
   "outputs": [
    {
     "data": {
      "text/plain": [
       "array([0.91274485, 0.73320082, 0.96362516, ..., 1.93446163, 2.0909299 ,\n",
       "       2.15172775])"
      ]
     },
     "execution_count": 10,
     "metadata": {},
     "output_type": "execute_result"
    }
   ],
   "source": [
    "data"
   ]
  },
  {
   "cell_type": "code",
   "execution_count": null,
   "metadata": {},
   "outputs": [],
   "source": []
  }
 ],
 "metadata": {
  "kernelspec": {
   "display_name": "Python 3",
   "language": "python",
   "name": "python3"
  },
  "language_info": {
   "codemirror_mode": {
    "name": "ipython",
    "version": 3
   },
   "file_extension": ".py",
   "mimetype": "text/x-python",
   "name": "python",
   "nbconvert_exporter": "python",
   "pygments_lexer": "ipython3",
   "version": "3.7.1"
  }
 },
 "nbformat": 4,
 "nbformat_minor": 2
}
