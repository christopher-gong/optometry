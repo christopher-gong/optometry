{
 "cells": [
  {
   "cell_type": "code",
   "execution_count": 1,
   "metadata": {},
   "outputs": [
    {
     "data": {
      "text/html": [
       "<div>\n",
       "<style scoped>\n",
       "    .dataframe tbody tr th:only-of-type {\n",
       "        vertical-align: middle;\n",
       "    }\n",
       "\n",
       "    .dataframe tbody tr th {\n",
       "        vertical-align: top;\n",
       "    }\n",
       "\n",
       "    .dataframe thead th {\n",
       "        text-align: right;\n",
       "    }\n",
       "</style>\n",
       "<table border=\"1\" class=\"dataframe\">\n",
       "  <thead>\n",
       "    <tr style=\"text-align: right;\">\n",
       "      <th></th>\n",
       "      <th>Unnamed: 0</th>\n",
       "      <th>image</th>\n",
       "      <th>total cell index</th>\n",
       "      <th>ind cell index</th>\n",
       "      <th>Area</th>\n",
       "      <th>Circ.</th>\n",
       "      <th>AR</th>\n",
       "      <th>Round</th>\n",
       "      <th>Solidity</th>\n",
       "      <th>% depth</th>\n",
       "      <th>...</th>\n",
       "      <th>z norm SCGN_median</th>\n",
       "      <th>z norm Kv2.2_median</th>\n",
       "      <th>z norm DAPI3_median</th>\n",
       "      <th>z norm CAVIII_median</th>\n",
       "      <th>z norm Rec_median</th>\n",
       "      <th>z norm DAPI4_median</th>\n",
       "      <th>z norm Calb_median</th>\n",
       "      <th>z norm PKC_median</th>\n",
       "      <th>z norm Parv_median</th>\n",
       "      <th>z norm DAPI5_median</th>\n",
       "    </tr>\n",
       "  </thead>\n",
       "  <tbody>\n",
       "    <tr>\n",
       "      <th>0</th>\n",
       "      <td>0</td>\n",
       "      <td>21_s1m1</td>\n",
       "      <td>0</td>\n",
       "      <td>0</td>\n",
       "      <td>0.049</td>\n",
       "      <td>0.857</td>\n",
       "      <td>1.450</td>\n",
       "      <td>0.690</td>\n",
       "      <td>0.897</td>\n",
       "      <td>5.259663</td>\n",
       "      <td>...</td>\n",
       "      <td>-0.020591</td>\n",
       "      <td>0.302211</td>\n",
       "      <td>-0.746300</td>\n",
       "      <td>-0.565612</td>\n",
       "      <td>1.181044</td>\n",
       "      <td>-1.485921</td>\n",
       "      <td>-1.086136</td>\n",
       "      <td>-0.721506</td>\n",
       "      <td>-0.334144</td>\n",
       "      <td>-1.151339</td>\n",
       "    </tr>\n",
       "    <tr>\n",
       "      <th>1</th>\n",
       "      <td>1</td>\n",
       "      <td>21_s1m1</td>\n",
       "      <td>1</td>\n",
       "      <td>1</td>\n",
       "      <td>0.058</td>\n",
       "      <td>0.878</td>\n",
       "      <td>1.135</td>\n",
       "      <td>0.881</td>\n",
       "      <td>0.892</td>\n",
       "      <td>22.574779</td>\n",
       "      <td>...</td>\n",
       "      <td>2.700736</td>\n",
       "      <td>1.379877</td>\n",
       "      <td>0.631802</td>\n",
       "      <td>-0.585292</td>\n",
       "      <td>0.171825</td>\n",
       "      <td>-1.464316</td>\n",
       "      <td>-1.086136</td>\n",
       "      <td>-0.996451</td>\n",
       "      <td>-0.508083</td>\n",
       "      <td>-0.387308</td>\n",
       "    </tr>\n",
       "    <tr>\n",
       "      <th>2</th>\n",
       "      <td>2</td>\n",
       "      <td>21_s1m1</td>\n",
       "      <td>2</td>\n",
       "      <td>2</td>\n",
       "      <td>0.068</td>\n",
       "      <td>0.708</td>\n",
       "      <td>1.663</td>\n",
       "      <td>0.601</td>\n",
       "      <td>0.864</td>\n",
       "      <td>70.322646</td>\n",
       "      <td>...</td>\n",
       "      <td>-0.369889</td>\n",
       "      <td>0.786296</td>\n",
       "      <td>2.512683</td>\n",
       "      <td>-0.948704</td>\n",
       "      <td>-1.030963</td>\n",
       "      <td>-1.198727</td>\n",
       "      <td>-0.961293</td>\n",
       "      <td>-0.966496</td>\n",
       "      <td>-0.540182</td>\n",
       "      <td>1.400713</td>\n",
       "    </tr>\n",
       "    <tr>\n",
       "      <th>3</th>\n",
       "      <td>3</td>\n",
       "      <td>21_s1m1</td>\n",
       "      <td>3</td>\n",
       "      <td>3</td>\n",
       "      <td>0.067</td>\n",
       "      <td>0.763</td>\n",
       "      <td>1.336</td>\n",
       "      <td>0.749</td>\n",
       "      <td>0.863</td>\n",
       "      <td>54.642624</td>\n",
       "      <td>...</td>\n",
       "      <td>-0.155288</td>\n",
       "      <td>0.734430</td>\n",
       "      <td>1.223703</td>\n",
       "      <td>-0.391122</td>\n",
       "      <td>1.201069</td>\n",
       "      <td>-1.373327</td>\n",
       "      <td>-0.968633</td>\n",
       "      <td>-0.909795</td>\n",
       "      <td>-0.540182</td>\n",
       "      <td>0.586593</td>\n",
       "    </tr>\n",
       "    <tr>\n",
       "      <th>4</th>\n",
       "      <td>4</td>\n",
       "      <td>21_s1m1</td>\n",
       "      <td>4</td>\n",
       "      <td>4</td>\n",
       "      <td>0.099</td>\n",
       "      <td>0.799</td>\n",
       "      <td>1.435</td>\n",
       "      <td>0.697</td>\n",
       "      <td>0.887</td>\n",
       "      <td>17.882495</td>\n",
       "      <td>...</td>\n",
       "      <td>-0.280852</td>\n",
       "      <td>0.550017</td>\n",
       "      <td>0.442898</td>\n",
       "      <td>-0.593164</td>\n",
       "      <td>0.370732</td>\n",
       "      <td>-1.464316</td>\n",
       "      <td>-1.053046</td>\n",
       "      <td>-0.811371</td>\n",
       "      <td>-0.431165</td>\n",
       "      <td>-0.597813</td>\n",
       "    </tr>\n",
       "  </tbody>\n",
       "</table>\n",
       "<p>5 rows × 197 columns</p>\n",
       "</div>"
      ],
      "text/plain": [
       "   Unnamed: 0   image   total cell index  ind cell index   Area  Circ.     AR  \\\n",
       "0           0  21_s1m1                 0               0  0.049  0.857  1.450   \n",
       "1           1  21_s1m1                 1               1  0.058  0.878  1.135   \n",
       "2           2  21_s1m1                 2               2  0.068  0.708  1.663   \n",
       "3           3  21_s1m1                 3               3  0.067  0.763  1.336   \n",
       "4           4  21_s1m1                 4               4  0.099  0.799  1.435   \n",
       "\n",
       "   Round  Solidity    % depth         ...           z norm SCGN_median  \\\n",
       "0  0.690     0.897   5.259663         ...                    -0.020591   \n",
       "1  0.881     0.892  22.574779         ...                     2.700736   \n",
       "2  0.601     0.864  70.322646         ...                    -0.369889   \n",
       "3  0.749     0.863  54.642624         ...                    -0.155288   \n",
       "4  0.697     0.887  17.882495         ...                    -0.280852   \n",
       "\n",
       "   z norm Kv2.2_median  z norm DAPI3_median  z norm CAVIII_median  \\\n",
       "0             0.302211            -0.746300             -0.565612   \n",
       "1             1.379877             0.631802             -0.585292   \n",
       "2             0.786296             2.512683             -0.948704   \n",
       "3             0.734430             1.223703             -0.391122   \n",
       "4             0.550017             0.442898             -0.593164   \n",
       "\n",
       "   z norm Rec_median  z norm DAPI4_median  z norm Calb_median  \\\n",
       "0           1.181044            -1.485921           -1.086136   \n",
       "1           0.171825            -1.464316           -1.086136   \n",
       "2          -1.030963            -1.198727           -0.961293   \n",
       "3           1.201069            -1.373327           -0.968633   \n",
       "4           0.370732            -1.464316           -1.053046   \n",
       "\n",
       "   z norm PKC_median  z norm Parv_median  z norm DAPI5_median  \n",
       "0          -0.721506           -0.334144            -1.151339  \n",
       "1          -0.996451           -0.508083            -0.387308  \n",
       "2          -0.966496           -0.540182             1.400713  \n",
       "3          -0.909795           -0.540182             0.586593  \n",
       "4          -0.811371           -0.431165            -0.597813  \n",
       "\n",
       "[5 rows x 197 columns]"
      ]
     },
     "execution_count": 1,
     "metadata": {},
     "output_type": "execute_result"
    }
   ],
   "source": [
    "import normalization as nrm\n",
    "import pandas as pd\n",
    "import numpy as np\n",
    "import matplotlib.pyplot as plt\n",
    "\n",
    "from sklearn.decomposition import PCA\n",
    "from sklearn.ensemble import ExtraTreesClassifier\n",
    "from sklearn.manifold import TSNE\n",
    "from sklearn.cluster import KMeans\n",
    "from sklearn.mixture import GaussianMixture\n",
    "\n",
    "norm_roi_df = pd.read_csv(\"BM_AM_180808_190401_norm.csv\")\n",
    "norm_roi_df.head(5)"
   ]
  },
  {
   "cell_type": "code",
   "execution_count": 26,
   "metadata": {},
   "outputs": [
    {
     "data": {
      "text/plain": [
       "7973"
      ]
     },
     "execution_count": 26,
     "metadata": {},
     "output_type": "execute_result"
    }
   ],
   "source": [
    "#drop columns you don't want. Overrides roi_cluster_df\n",
    "\n",
    "roi_cluster_df=norm_roi_df.copy() #creates new df\n",
    "colNames=roi_cluster_df.columns[roi_cluster_df.columns.str.contains(pat='z norm')] #keeps only znorm data\n",
    "roi_cluster_df=roi_cluster_df[colNames]\n",
    "roi_cluster_df=roi_cluster_df.drop(['z norm total cell index', 'z norm ind cell index'], axis=1)\n",
    "\n",
    "#drops specific channels you don't want\n",
    "noanalysis = ['DAPI', 'Tarpg3', 'GLT-1', 'Cav3.1', 'Kv2.2', 'Area', 'Circ','AR','Round','Solidity','stddev', 'median']\n",
    "for col in noanalysis:\n",
    "    roi_cluster_df=roi_cluster_df.drop(roi_cluster_df.columns[roi_cluster_df.columns.str.contains(pat=col)], axis=1)\n",
    "\n",
    "#saves data as an array to be used by tsne and umap\n",
    "roi_cluster_array = roi_cluster_df.iloc[0:7973, 0:11].values\n",
    "\n",
    "#prints updated df     \n",
    "roi_cluster_df.shape[0]"
   ]
  },
  {
   "cell_type": "code",
   "execution_count": 23,
   "metadata": {},
   "outputs": [
    {
     "data": {
      "text/plain": [
       "[<matplotlib.lines.Line2D at 0x231858a11d0>]"
      ]
     },
     "execution_count": 23,
     "metadata": {},
     "output_type": "execute_result"
    },
    {
     "data": {
      "image/png": "[encoded data removed]",
      "text/plain": [
       "<Figure size 432x288 with 1 Axes>"
      ]
     },
     "metadata": {
      "needs_background": "light"
     },
     "output_type": "display_data"
    }
   ],
   "source": [
    "#RUN PCA\n",
    "\n",
    "#calculate variance explained and cumulative variance explained\n",
    "covar_matrix=PCA(n_components=10) #number must be equal or less than the # of channels\n",
    "covar_matrix.fit(roi_cluster_df)\n",
    "variance=covar_matrix.explained_variance_ratio_\n",
    "var=np.cumsum(np.round(covar_matrix.explained_variance_ratio_, decimals=3)*100)\n",
    "\n",
    "#print graph of the variance explained with [n] features\n",
    "plt.ylabel('%variance explained')\n",
    "plt.xlabel('# of principle components')\n",
    "plt.title('Variance Explained')\n",
    "plt.ylim(70,100.5)\n",
    "plt.style.context('seaborn-whitegrid')\n",
    "plt.plot(var)"
   ]
  },
  {
   "cell_type": "code",
   "execution_count": 24,
   "metadata": {},
   "outputs": [],
   "source": [
    "def ninetyLocator(var):\n",
    "    for i in range(len(var)):\n",
    "        if var[i] > 90:\n",
    "            return i\n",
    "    return -1"
   ]
  },
  {
   "cell_type": "code",
   "execution_count": 25,
   "metadata": {},
   "outputs": [
    {
     "data": {
      "text/plain": [
       "6"
      ]
     },
     "execution_count": 25,
     "metadata": {},
     "output_type": "execute_result"
    }
   ],
   "source": [
    "ninetyLocator(var)"
   ]
  },
  {
   "cell_type": "code",
   "execution_count": 27,
   "metadata": {},
   "outputs": [
    {
     "data": {
      "text/plain": [
       "array([[-1.60155798, -1.36672519, -0.91889505, ..., -1.12799189,\n",
       "        -0.83318239, -0.35752697],\n",
       "       [-0.96179987, -1.56824346, -0.91889505, ..., -1.11083813,\n",
       "        -1.05936895, -0.52122726],\n",
       "       [ 0.80238611, -1.31082755, -0.53114244, ..., -1.03434023,\n",
       "        -1.0866237 , -0.60032093],\n",
       "       ...,\n",
       "       [-0.93439362, -0.22678499, -0.80255631, ..., -0.44338496,\n",
       "        -0.2741992 , -0.13232891],\n",
       "       [ 1.00089231, -0.30060502,  0.5311899 , ..., -0.18205211,\n",
       "        -0.42489266, -0.33259914],\n",
       "       [ 0.042763  ,  1.14025092, -0.22049293, ..., -0.20074926,\n",
       "         0.50122438, -0.01930503]])"
      ]
     },
     "execution_count": 27,
     "metadata": {},
     "output_type": "execute_result"
    }
   ],
   "source": [
    "roi_cluster_array.copy()"
   ]
  },
  {
   "cell_type": "code",
   "execution_count": 29,
   "metadata": {},
   "outputs": [],
   "source": [
    "def procedure(roi_cluster_df, condition, outputCSV):\n",
    "    #use condition\n",
    "    analysis = []\n",
    "    if condition == 1:\n",
    "        comp = 8\n",
    "        noanalysis = []\n",
    "    elif condition == 2:\n",
    "        comp = 8\n",
    "        noanalysis = ['Islet1']\n",
    "    elif condition == 3:\n",
    "        comp = 7\n",
    "        noanalysis = ['Islet1', 'CD15']\n",
    "    elif condition == 4:\n",
    "        comp = 3\n",
    "        analysis = ['Parv', 'Pax6']\n",
    "    else:\n",
    "        raise Exception('condition must be 1 through 4.')\n",
    "\n",
    "    labelsNOPCA = []\n",
    "    labelsPCA = []\n",
    "    \n",
    "    noanalysis += ['DAPI', 'Tarpg3', 'GLT-1', 'Cav3.1', 'Kv2.2', 'Area', 'Circ','AR','Round','Solidity','stddev', 'median']\n",
    "    for col in noanalysis:\n",
    "        roi_cluster_df=roi_cluster_df.drop(roi_cluster_df.columns[roi_cluster_df.columns.str.contains(pat=col)], axis=1)\n",
    "\n",
    "    if len(analysis) > 0:\n",
    "        roi_cluster_df = roi_cluster_df[analysis]\n",
    "\n",
    "    roi_cluster_array = roi_cluster_df.iloc[0:roi_cluster_df.shape[0], 0:roi_cluster_df.shape[1]].values\n",
    "    roi_cluster_array_noPCA = roi_cluster_array.copy()\n",
    "\n",
    "    #kmeans and gmm on regular\n",
    "    kmeans = KMeans(n_clusters=roi_cluster_df.shape[1], random_state = 123) #run on cols\n",
    "    kmeans.fit(roi_cluster_array_noPCA)\n",
    "\n",
    "    #roi_clusterResults_df_noPCA=roi_cluster_df.copy()\n",
    "    #a=kmeans.labels_\n",
    "    #df_a=pd.DataFrame(a)\n",
    "    #roi_clusterResults_df_noPCA=pd.concat([roi_clusterResults_df, df_a], axis=1)\n",
    "\n",
    "    labelsNOPCA = kmeans.labels_\n",
    "\n",
    "    #run pca\n",
    "    covar_matrix=PCA(n_components=comp) #its comp right\n",
    "    covar_matrix.fit(roi_cluster_df)\n",
    "    variance=covar_matrix.explained_variance_ratio_\n",
    "    var=np.cumsum(np.round(covar_matrix.explained_variance_ratio_, decimals=3)*100)\n",
    "    ncomp = ninetyLocator(var)\n",
    "\n",
    "    pca_num=PCA(n_components=comp)\n",
    "    pca_array=pca_num.fit_transform(roi_cluster_df)\n",
    "\n",
    "    #kmeans and gmm on pca\n",
    "    kmeans = KMeans(n_clusters=ncomp, random_state = 123) #make sure this is correct. clusters vs comp\n",
    "    kmeans.fit(pca_array)\n",
    "\n",
    "    #roi_clusterResults_df=roi_cluster_df.copy()\n",
    "    #a=kmeans.labels_\n",
    "    #df_a=pd.DataFrame(a)\n",
    "    #roi_clusterResults_df=pd.concat([roi_clusterResults_df, df_a], axis=1)\n",
    "\n",
    "    labelsPCA = kmeans.labels_\n",
    "    #output\n",
    "\n",
    "    print('PCA: ', labelsPCA)\n",
    "    print('No PCA: ', labelsNOPCA)"
   ]
  },
  {
   "cell_type": "code",
   "execution_count": 30,
   "metadata": {},
   "outputs": [
    {
     "name": "stdout",
     "output_type": "stream",
     "text": [
      "PCA:  [3 3 3 ... 3 0 5]\n",
      "No PCA:  [ 2  2  1 ... 10  1  0]\n"
     ]
    }
   ],
   "source": [
    "procedure(roi_cluster_df, 1, 'outputCSV')"
   ]
  },
  {
   "cell_type": "code",
   "execution_count": null,
   "metadata": {},
   "outputs": [],
   "source": []
  }
 ],
 "metadata": {
  "kernelspec": {
   "display_name": "Python 3",
   "language": "python",
   "name": "python3"
  },
  "language_info": {
   "codemirror_mode": {
    "name": "ipython",
    "version": 3
   },
   "file_extension": ".py",
   "mimetype": "text/x-python",
   "name": "python",
   "nbconvert_exporter": "python",
   "pygments_lexer": "ipython3",
   "version": "3.7.1"
  }
 },
 "nbformat": 4,
 "nbformat_minor": 2
}
