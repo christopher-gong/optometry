{
 "cells": [
  {
   "cell_type": "code",
   "execution_count": 15,
   "metadata": {},
   "outputs": [],
   "source": [
    "import csv\n",
    "import numpy as np\n",
    "import pandas as pd"
   ]
  },
  {
   "cell_type": "code",
   "execution_count": 16,
   "metadata": {},
   "outputs": [],
   "source": [
    "# reading in the csv file as a new pandas dataframe called roi_df\n",
    "#use pd.read_csv(\"the path to the csv file on ur computer\")\n",
    "Multimeas = pd.read_csv(\"C:/Users/chris/Desktop/projects/optometry/jupyter/opt.csv\")"
   ]
  },
  {
   "cell_type": "code",
   "execution_count": 17,
   "metadata": {},
   "outputs": [],
   "source": [
    "roi_df = Multimeas"
   ]
  },
  {
   "cell_type": "code",
   "execution_count": 45,
   "metadata": {},
   "outputs": [
    {
     "data": {
      "text/plain": [
       "array([[<matplotlib.axes._subplots.AxesSubplot object at 0x000001B971DA3438>]],\n",
       "      dtype=object)"
      ]
     },
     "execution_count": 45,
     "metadata": {},
     "output_type": "execute_result"
    },
    {
     "data": {
      "image/png": "[encoded data removed]",
      "text/plain": [
       "<Figure size 432x288 with 1 Axes>"
      ]
     },
     "metadata": {
      "needs_background": "light"
     },
     "output_type": "display_data"
    }
   ],
   "source": [
    "roi_df.hist(column=\"DAPI\", bins=100)"
   ]
  },
  {
   "cell_type": "code",
   "execution_count": 12,
   "metadata": {},
   "outputs": [],
   "source": [
    "from scipy.optimize import curve_fit\n",
    "import matplotlib.pyplot as plt\n",
    "from pylab import *"
   ]
  },
  {
   "cell_type": "code",
   "execution_count": 13,
   "metadata": {},
   "outputs": [],
   "source": [
    "def gauss(x,mu,sigma,A):\n",
    "    return A*exp(-(x-mu)**2/2/sigma**2)\n",
    "\n",
    "def bimodal(x,mu1,sigma1,A1,mu2,sigma2,A2):\n",
    "    return gauss(x,mu1,sigma1,A1)+gauss(x,mu2,sigma2,A2)"
   ]
  },
  {
   "cell_type": "code",
   "execution_count": 24,
   "metadata": {},
   "outputs": [
    {
     "data": {
      "text/plain": [
       "array([ 369.136,  988.403, 2316.406, ..., 5662.223, 5675.363, 5656.707])"
      ]
     },
     "execution_count": 24,
     "metadata": {},
     "output_type": "execute_result"
    }
   ],
   "source": [
    "DAPI = np.asarray(roi_df[\"DAPI\"].tolist())\n",
    "DAPI"
   ]
  },
  {
   "cell_type": "code",
   "execution_count": 25,
   "metadata": {},
   "outputs": [
    {
     "data": {
      "text/plain": [
       "(array([1.08e+02, 1.60e+03, 7.56e+02, 8.50e+01, 4.10e+01, 3.00e+01,\n",
       "        1.70e+01, 1.70e+01, 1.40e+01, 9.00e+00, 1.40e+01, 2.30e+01,\n",
       "        2.80e+01, 3.40e+01, 2.50e+01, 3.40e+01, 4.70e+01, 6.40e+01,\n",
       "        6.00e+01, 9.30e+01, 8.80e+01, 1.05e+02, 1.48e+02, 1.36e+02,\n",
       "        1.72e+02, 1.77e+02, 1.68e+02, 1.79e+02, 1.85e+02, 2.15e+02,\n",
       "        2.15e+02, 2.17e+02, 2.08e+02, 2.12e+02, 2.13e+02, 2.27e+02,\n",
       "        2.18e+02, 2.19e+02, 2.03e+02, 2.01e+02, 1.89e+02, 2.08e+02,\n",
       "        2.04e+02, 1.80e+02, 1.95e+02, 1.61e+02, 1.57e+02, 1.44e+02,\n",
       "        1.53e+02, 1.52e+02, 1.59e+02, 1.64e+02, 1.22e+02, 1.42e+02,\n",
       "        1.05e+02, 1.06e+02, 9.70e+01, 1.05e+02, 1.19e+02, 8.60e+01,\n",
       "        9.10e+01, 8.50e+01, 7.90e+01, 5.50e+01, 6.50e+01, 6.20e+01,\n",
       "        6.90e+01, 3.90e+01, 5.10e+01, 3.70e+01, 3.50e+01, 4.40e+01,\n",
       "        2.90e+01, 2.40e+01, 2.20e+01, 1.40e+01, 1.80e+01, 1.60e+01,\n",
       "        1.50e+01, 1.10e+01, 8.00e+00, 1.00e+01, 7.00e+00, 4.00e+00,\n",
       "        2.00e+00, 5.00e+00, 7.00e+00, 4.00e+00, 4.00e+00, 2.00e+00,\n",
       "        1.00e+00, 1.00e+00, 0.00e+00, 0.00e+00, 0.00e+00, 0.00e+00,\n",
       "        1.00e+00, 0.00e+00, 0.00e+00, 2.00e+00]),\n",
       " array([ 141.955  ,  239.30691,  336.65882,  434.01073,  531.36264,\n",
       "         628.71455,  726.06646,  823.41837,  920.77028, 1018.12219,\n",
       "        1115.4741 , 1212.82601, 1310.17792, 1407.52983, 1504.88174,\n",
       "        1602.23365, 1699.58556, 1796.93747, 1894.28938, 1991.64129,\n",
       "        2088.9932 , 2186.34511, 2283.69702, 2381.04893, 2478.40084,\n",
       "        2575.75275, 2673.10466, 2770.45657, 2867.80848, 2965.16039,\n",
       "        3062.5123 , 3159.86421, 3257.21612, 3354.56803, 3451.91994,\n",
       "        3549.27185, 3646.62376, 3743.97567, 3841.32758, 3938.67949,\n",
       "        4036.0314 , 4133.38331, 4230.73522, 4328.08713, 4425.43904,\n",
       "        4522.79095, 4620.14286, 4717.49477, 4814.84668, 4912.19859,\n",
       "        5009.5505 , 5106.90241, 5204.25432, 5301.60623, 5398.95814,\n",
       "        5496.31005, 5593.66196, 5691.01387, 5788.36578, 5885.71769,\n",
       "        5983.0696 , 6080.42151, 6177.77342, 6275.12533, 6372.47724,\n",
       "        6469.82915, 6567.18106, 6664.53297, 6761.88488, 6859.23679,\n",
       "        6956.5887 , 7053.94061, 7151.29252, 7248.64443, 7345.99634,\n",
       "        7443.34825, 7540.70016, 7638.05207, 7735.40398, 7832.75589,\n",
       "        7930.1078 , 8027.45971, 8124.81162, 8222.16353, 8319.51544,\n",
       "        8416.86735, 8514.21926, 8611.57117, 8708.92308, 8806.27499,\n",
       "        8903.6269 , 9000.97881, 9098.33072, 9195.68263, 9293.03454,\n",
       "        9390.38645, 9487.73836, 9585.09027, 9682.44218, 9779.79409,\n",
       "        9877.146  ]),\n",
       " <a list of 100 Patch objects>)"
      ]
     },
     "execution_count": 25,
     "metadata": {},
     "output_type": "execute_result"
    },
    {
     "data": {
      "image/png": "[encoded data removed]",
      "text/plain": [
       "<Figure size 432x288 with 1 Axes>"
      ]
     },
     "metadata": {
      "needs_background": "light"
     },
     "output_type": "display_data"
    }
   ],
   "source": [
    "hist(DAPI,100,alpha=.3,label='data')"
   ]
  },
  {
   "cell_type": "code",
   "execution_count": 106,
   "metadata": {},
   "outputs": [
    {
     "name": "stdout",
     "output_type": "stream",
     "text": [
      "[ 315.49298567   52.2024768  1823.89770339 3893.83013665 1489.60833432\n",
      "  212.87715992] \n",
      " [ 1.17221578  1.29845101 37.35051651 33.89033281 34.42268729  4.19827902]\n"
     ]
    },
    {
     "data": {
      "image/png": "[encoded data removed]",
      "text/plain": [
       "<Figure size 432x288 with 1 Axes>"
      ]
     },
     "metadata": {
      "needs_background": "light"
     },
     "output_type": "display_data"
    }
   ],
   "source": [
    "y,x,_=hist(DAPI,100,alpha=.3,label='data')\n",
    "\n",
    "x=(x[1:]+x[:-1])/2 # for len(x)==len(y)\n",
    "\n",
    "expected=(250,20,1600,3700,30,300)\n",
    "params,cov=curve_fit(bimodal,x,y,expected)\n",
    "sigma=sqrt(diag(cov))\n",
    "plot(x,bimodal(x,*params),color='red',lw=3,label='model')\n",
    "legend()\n",
    "print(params,'\\n',sigma)  "
   ]
  },
  {
   "cell_type": "code",
   "execution_count": 39,
   "metadata": {},
   "outputs": [
    {
     "data": {
      "text/html": [
       "<div>\n",
       "<style scoped>\n",
       "    .dataframe tbody tr th:only-of-type {\n",
       "        vertical-align: middle;\n",
       "    }\n",
       "\n",
       "    .dataframe tbody tr th {\n",
       "        vertical-align: top;\n",
       "    }\n",
       "\n",
       "    .dataframe thead th {\n",
       "        text-align: right;\n",
       "    }\n",
       "</style>\n",
       "<table border=\"1\" class=\"dataframe\">\n",
       "  <thead>\n",
       "    <tr style=\"text-align: right;\">\n",
       "      <th></th>\n",
       "      <th>params</th>\n",
       "      <th>sigma</th>\n",
       "    </tr>\n",
       "  </thead>\n",
       "  <tbody>\n",
       "    <tr>\n",
       "      <th>mu1</th>\n",
       "      <td>315.492986</td>\n",
       "      <td>1.172216</td>\n",
       "    </tr>\n",
       "    <tr>\n",
       "      <th>sigma1</th>\n",
       "      <td>52.202477</td>\n",
       "      <td>1.298451</td>\n",
       "    </tr>\n",
       "    <tr>\n",
       "      <th>A1</th>\n",
       "      <td>1823.897703</td>\n",
       "      <td>37.350517</td>\n",
       "    </tr>\n",
       "    <tr>\n",
       "      <th>mu2</th>\n",
       "      <td>3893.830137</td>\n",
       "      <td>33.890333</td>\n",
       "    </tr>\n",
       "    <tr>\n",
       "      <th>sigma2</th>\n",
       "      <td>1489.608334</td>\n",
       "      <td>34.422687</td>\n",
       "    </tr>\n",
       "    <tr>\n",
       "      <th>A2</th>\n",
       "      <td>212.877160</td>\n",
       "      <td>4.198279</td>\n",
       "    </tr>\n",
       "  </tbody>\n",
       "</table>\n",
       "</div>"
      ],
      "text/plain": [
       "             params      sigma\n",
       "mu1      315.492986   1.172216\n",
       "sigma1    52.202477   1.298451\n",
       "A1      1823.897703  37.350517\n",
       "mu2     3893.830137  33.890333\n",
       "sigma2  1489.608334  34.422687\n",
       "A2       212.877160   4.198279"
      ]
     },
     "execution_count": 39,
     "metadata": {},
     "output_type": "execute_result"
    }
   ],
   "source": [
    "pd.DataFrame(data={'params':params,'sigma':sigma},index=bimodal.__code__.co_varnames[1:])"
   ]
  },
  {
   "cell_type": "code",
   "execution_count": 129,
   "metadata": {},
   "outputs": [],
   "source": [
    "def bimodalGraph(col, table, expected=None, bins=100):\n",
    "    DAPI = np.asarray(roi_df[\"DAPI\"].tolist())\n",
    "    y,x,_=hist(DAPI,100,alpha=.3,label='data')\n",
    "    x=(x[1:]+x[:-1])/2\n",
    "    if expected is none:\n",
    "        expected = getBimodalExpected(DAPI, x, y)\n",
    "\n",
    "def getBimodalExpected(nparr, x, y):\n",
    "    #find min in the first half\n",
    "    miny = np.argmin(y[0:50])\n",
    "    \n",
    "    minx = x[np.argmin(y[0:50])]\n",
    "    endminx = x[50+find_nearest(np.asarray(roi_df[\"DAPI\"].tolist())[50:100], miny)]\n",
    "    \n",
    "    return (minx // 2,20,1600,3700,30,300)\n",
    "\n",
    "def find_nearest(array, value):\n",
    "    array = np.asarray(array)\n",
    "    idx = (np.abs(array - value)).argmin()\n",
    "    return idx"
   ]
  },
  {
   "cell_type": "code",
   "execution_count": 49,
   "metadata": {},
   "outputs": [],
   "source": [
    "from scipy.signal import find_peaks"
   ]
  },
  {
   "cell_type": "code",
   "execution_count": 69,
   "metadata": {},
   "outputs": [],
   "source": [
    "peaks, properties = find_peaks(DAPI, height=1600, prominence=1, width=2)"
   ]
  },
  {
   "cell_type": "code",
   "execution_count": 70,
   "metadata": {},
   "outputs": [
    {
     "data": {
      "text/plain": [
       "array([   14,    23,    30, ..., 10629, 10644, 10654], dtype=int64)"
      ]
     },
     "execution_count": 70,
     "metadata": {},
     "output_type": "execute_result"
    }
   ],
   "source": [
    "peaks"
   ]
  },
  {
   "cell_type": "code",
   "execution_count": 73,
   "metadata": {},
   "outputs": [],
   "source": [
    "z = np.argmin(DAPI)"
   ]
  },
  {
   "cell_type": "code",
   "execution_count": 74,
   "metadata": {},
   "outputs": [
    {
     "data": {
      "text/plain": [
       "2423"
      ]
     },
     "execution_count": 74,
     "metadata": {},
     "output_type": "execute_result"
    }
   ],
   "source": [
    "z"
   ]
  },
  {
   "cell_type": "code",
   "execution_count": 77,
   "metadata": {},
   "outputs": [
    {
     "name": "stdout",
     "output_type": "stream",
     "text": [
      "0 369.13599999999997\n",
      "1000 308.79\n",
      "2000 5197.66\n",
      "3000 3488.0040000000004\n",
      "4000 4272.312\n",
      "5000 4586.266\n",
      "6000 4304.465\n",
      "7000 4356.179\n",
      "8000 3410.7459999999996\n",
      "9000 5621.738\n"
     ]
    }
   ],
   "source": [
    "for i in range(0,10000,1000):\n",
    "    print(i, DAPI[i])"
   ]
  },
  {
   "cell_type": "code",
   "execution_count": 116,
   "metadata": {},
   "outputs": [
    {
     "data": {
      "text/plain": [
       "1066.798145"
      ]
     },
     "execution_count": 116,
     "metadata": {},
     "output_type": "execute_result"
    }
   ],
   "source": [
    "x[np.argmin(y[0:50])]"
   ]
  },
  {
   "cell_type": "code",
   "execution_count": 79,
   "metadata": {},
   "outputs": [
    {
     "data": {
      "text/plain": [
       "141.955"
      ]
     },
     "execution_count": 79,
     "metadata": {},
     "output_type": "execute_result"
    }
   ],
   "source": [
    "DAPI[2423]"
   ]
  },
  {
   "cell_type": "code",
   "execution_count": 87,
   "metadata": {},
   "outputs": [
    {
     "data": {
      "text/plain": [
       "3535.842"
      ]
     },
     "execution_count": 87,
     "metadata": {},
     "output_type": "execute_result"
    }
   ],
   "source": [
    "DAPI[92]"
   ]
  },
  {
   "cell_type": "code",
   "execution_count": 108,
   "metadata": {},
   "outputs": [
    {
     "data": {
      "text/plain": [
       "array([1.08e+02, 1.60e+03, 7.56e+02, 8.50e+01, 4.10e+01, 3.00e+01,\n",
       "       1.70e+01, 1.70e+01, 1.40e+01, 9.00e+00, 1.40e+01, 2.30e+01,\n",
       "       2.80e+01, 3.40e+01, 2.50e+01, 3.40e+01, 4.70e+01, 6.40e+01,\n",
       "       6.00e+01, 9.30e+01, 8.80e+01, 1.05e+02, 1.48e+02, 1.36e+02,\n",
       "       1.72e+02, 1.77e+02, 1.68e+02, 1.79e+02, 1.85e+02, 2.15e+02,\n",
       "       2.15e+02, 2.17e+02, 2.08e+02, 2.12e+02, 2.13e+02, 2.27e+02,\n",
       "       2.18e+02, 2.19e+02, 2.03e+02, 2.01e+02, 1.89e+02, 2.08e+02,\n",
       "       2.04e+02, 1.80e+02, 1.95e+02, 1.61e+02, 1.57e+02, 1.44e+02,\n",
       "       1.53e+02, 1.52e+02, 1.59e+02, 1.64e+02, 1.22e+02, 1.42e+02,\n",
       "       1.05e+02, 1.06e+02, 9.70e+01, 1.05e+02, 1.19e+02, 8.60e+01,\n",
       "       9.10e+01, 8.50e+01, 7.90e+01, 5.50e+01, 6.50e+01, 6.20e+01,\n",
       "       6.90e+01, 3.90e+01, 5.10e+01, 3.70e+01, 3.50e+01, 4.40e+01,\n",
       "       2.90e+01, 2.40e+01, 2.20e+01, 1.40e+01, 1.80e+01, 1.60e+01,\n",
       "       1.50e+01, 1.10e+01, 8.00e+00, 1.00e+01, 7.00e+00, 4.00e+00,\n",
       "       2.00e+00, 5.00e+00, 7.00e+00, 4.00e+00, 4.00e+00, 2.00e+00,\n",
       "       1.00e+00, 1.00e+00, 0.00e+00, 0.00e+00, 0.00e+00, 0.00e+00,\n",
       "       1.00e+00, 0.00e+00, 0.00e+00, 2.00e+00])"
      ]
     },
     "execution_count": 108,
     "metadata": {},
     "output_type": "execute_result"
    }
   ],
   "source": [
    "y"
   ]
  },
  {
   "cell_type": "code",
   "execution_count": 111,
   "metadata": {},
   "outputs": [
    {
     "data": {
      "text/plain": [
       "(array([2677,  422, 1573, 2133, 1743, 1205,  633,  228,   53,    5],\n",
       "       dtype=int64),\n",
       " array([ 141.955 , 1115.4741, 2088.9932, 3062.5123, 4036.0314, 5009.5505,\n",
       "        5983.0696, 6956.5887, 7930.1078, 8903.6269, 9877.146 ]))"
      ]
     },
     "execution_count": 111,
     "metadata": {},
     "output_type": "execute_result"
    }
   ],
   "source": [
    "np.histogram(DAPI)"
   ]
  },
  {
   "cell_type": "code",
   "execution_count": 130,
   "metadata": {},
   "outputs": [],
   "source": [
    "miny = np.argmin(y[0:50])\n",
    "minx = x[np.argmin(y[0:50])]\n",
    "endx = find_nearest(np.asarray(roi_df[\"DAPI\"].tolist())[50:100], miny)"
   ]
  },
  {
   "cell_type": "code",
   "execution_count": 131,
   "metadata": {},
   "outputs": [
    {
     "data": {
      "text/plain": [
       "32"
      ]
     },
     "execution_count": 131,
     "metadata": {},
     "output_type": "execute_result"
    }
   ],
   "source": [
    "endx"
   ]
  },
  {
   "cell_type": "code",
   "execution_count": 132,
   "metadata": {},
   "outputs": [
    {
     "data": {
      "text/plain": [
       "8173.487575"
      ]
     },
     "execution_count": 132,
     "metadata": {},
     "output_type": "execute_result"
    }
   ],
   "source": [
    "x[50+32]"
   ]
  },
  {
   "cell_type": "code",
   "execution_count": null,
   "metadata": {},
   "outputs": [],
   "source": []
  }
 ],
 "metadata": {
  "kernelspec": {
   "display_name": "Python 3",
   "language": "python",
   "name": "python3"
  },
  "language_info": {
   "codemirror_mode": {
    "name": "ipython",
    "version": 3
   },
   "file_extension": ".py",
   "mimetype": "text/x-python",
   "name": "python",
   "nbconvert_exporter": "python",
   "pygments_lexer": "ipython3",
   "version": "3.7.1"
  }
 },
 "nbformat": 4,
 "nbformat_minor": 2
}
