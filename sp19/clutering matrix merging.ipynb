{
 "cells": [
  {
   "cell_type": "code",
   "execution_count": 3,
   "metadata": {},
   "outputs": [],
   "source": [
    "import pandas as pd"
   ]
  },
  {
   "cell_type": "code",
   "execution_count": 4,
   "metadata": {},
   "outputs": [],
   "source": [
    "x1 = {'a': 1, 'b': 1, 'c': 2, 'd': 2, 'e': 1}\n",
    "x2 = {'a': 2, 'b': 1, 'c': 2, 'd': 2, 'e': 1}\n",
    "x3 = {'a': 1, 'b': 2, 'c': 1, 'd': 2, 'e': 2}\n",
    "x = [x1, x2, x3]"
   ]
  },
  {
   "cell_type": "code",
   "execution_count": 5,
   "metadata": {},
   "outputs": [
    {
     "ename": "NameError",
     "evalue": "name 'toLists' is not defined",
     "output_type": "error",
     "traceback": [
      "\u001b[1;31m---------------------------------------------------------------------------\u001b[0m",
      "\u001b[1;31mNameError\u001b[0m                                 Traceback (most recent call last)",
      "\u001b[1;32m<ipython-input-5-14c425201217>\u001b[0m in \u001b[0;36m<module>\u001b[1;34m\u001b[0m\n\u001b[1;32m----> 1\u001b[1;33m \u001b[0mtoLists\u001b[0m\u001b[1;33m(\u001b[0m\u001b[0mx1\u001b[0m\u001b[1;33m)\u001b[0m\u001b[1;33m\u001b[0m\u001b[1;33m\u001b[0m\u001b[0m\n\u001b[0m",
      "\u001b[1;31mNameError\u001b[0m: name 'toLists' is not defined"
     ]
    }
   ],
   "source": [
    "toLists(x1)"
   ]
  },
  {
   "cell_type": "code",
   "execution_count": 7,
   "metadata": {},
   "outputs": [],
   "source": [
    "def toLists(d):\n",
    "    z = []\n",
    "    k = list(d.keys())\n",
    "    for i in range(len(d)):\n",
    "        z += [[0] * len(d)]\n",
    "        for j in range(len(d)):\n",
    "            if (j < i + 1):\n",
    "                z[i][j] = 0\n",
    "            elif (d[k[i]] == d[k[j]]):\n",
    "                z[i][j] = 1\n",
    "    return z\n",
    "\n",
    "def listToDF(lsts, k):\n",
    "    df = pd.DataFrame(lsts, columns=k)\n",
    "    df['x'] = k\n",
    "    df.set_index('x', inplace=True)\n",
    "    #df.rename(index={0:'zero',1:'one'}, inplace=True)\n",
    "    return df\n",
    "\n",
    "def dictToDF(d):\n",
    "    return listToDF(toLists(d), d.keys())"
   ]
  },
  {
   "cell_type": "code",
   "execution_count": 8,
   "metadata": {},
   "outputs": [],
   "source": [
    "dictToDF(x3)\n",
    "x3 = {'a': 1, 'b': 2, 'c': 1, 'd': 2, 'e': 2}"
   ]
  },
  {
   "cell_type": "code",
   "execution_count": 9,
   "metadata": {},
   "outputs": [],
   "source": [
    "def mergeProcedure(listDict):\n",
    "    assert len(listDict) > 1, \"You must merge multiple dictionaries.\"\n",
    "    mergedLists = toLists(listDict[0])\n",
    "    print(dictToDF(listDict[0]))\n",
    "    for z in range(1, len(listDict)):\n",
    "        mult = 1 / (z + 1)\n",
    "        d = listDict[z]\n",
    "        l = toLists(d)\n",
    "        print(dictToDF(d))\n",
    "        for i in range(len(listDict[0])):\n",
    "            for j in range(i + 1, len(listDict[0])):\n",
    "                mergedLists[i][j] = (1 - mult) * mergedLists[i][j] + (mult) * l[i][j]\n",
    "            #print(\"Merge \", i)\n",
    "            #print(listToDF(mergedLists, listDict[0].keys()))\n",
    "    return mergedLists"
   ]
  },
  {
   "cell_type": "code",
   "execution_count": 10,
   "metadata": {},
   "outputs": [
    {
     "name": "stdout",
     "output_type": "stream",
     "text": [
      "   a  b  c  d  e\n",
      "x               \n",
      "a  0  1  0  0  1\n",
      "b  0  0  0  0  1\n",
      "c  0  0  0  1  0\n",
      "d  0  0  0  0  0\n",
      "e  0  0  0  0  0\n",
      "   a  b  c  d  e\n",
      "x               \n",
      "a  0  0  1  1  0\n",
      "b  0  0  0  0  1\n",
      "c  0  0  0  1  0\n",
      "d  0  0  0  0  0\n",
      "e  0  0  0  0  0\n",
      "   a  b  c  d  e\n",
      "x               \n",
      "a  0  0  1  0  0\n",
      "b  0  0  0  1  1\n",
      "c  0  0  0  0  0\n",
      "d  0  0  0  0  1\n",
      "e  0  0  0  0  0\n"
     ]
    }
   ],
   "source": [
    "m = mergeProcedure(x)"
   ]
  },
  {
   "cell_type": "code",
   "execution_count": 11,
   "metadata": {},
   "outputs": [
    {
     "data": {
      "text/html": [
       "<div>\n",
       "<style scoped>\n",
       "    .dataframe tbody tr th:only-of-type {\n",
       "        vertical-align: middle;\n",
       "    }\n",
       "\n",
       "    .dataframe tbody tr th {\n",
       "        vertical-align: top;\n",
       "    }\n",
       "\n",
       "    .dataframe thead th {\n",
       "        text-align: right;\n",
       "    }\n",
       "</style>\n",
       "<table border=\"1\" class=\"dataframe\">\n",
       "  <thead>\n",
       "    <tr style=\"text-align: right;\">\n",
       "      <th></th>\n",
       "      <th>a</th>\n",
       "      <th>b</th>\n",
       "      <th>c</th>\n",
       "      <th>d</th>\n",
       "      <th>e</th>\n",
       "    </tr>\n",
       "    <tr>\n",
       "      <th>x</th>\n",
       "      <th></th>\n",
       "      <th></th>\n",
       "      <th></th>\n",
       "      <th></th>\n",
       "      <th></th>\n",
       "    </tr>\n",
       "  </thead>\n",
       "  <tbody>\n",
       "    <tr>\n",
       "      <th>a</th>\n",
       "      <td>0</td>\n",
       "      <td>0.333333</td>\n",
       "      <td>0.666667</td>\n",
       "      <td>0.333333</td>\n",
       "      <td>0.333333</td>\n",
       "    </tr>\n",
       "    <tr>\n",
       "      <th>b</th>\n",
       "      <td>0</td>\n",
       "      <td>0.000000</td>\n",
       "      <td>0.000000</td>\n",
       "      <td>0.333333</td>\n",
       "      <td>1.000000</td>\n",
       "    </tr>\n",
       "    <tr>\n",
       "      <th>c</th>\n",
       "      <td>0</td>\n",
       "      <td>0.000000</td>\n",
       "      <td>0.000000</td>\n",
       "      <td>0.666667</td>\n",
       "      <td>0.000000</td>\n",
       "    </tr>\n",
       "    <tr>\n",
       "      <th>d</th>\n",
       "      <td>0</td>\n",
       "      <td>0.000000</td>\n",
       "      <td>0.000000</td>\n",
       "      <td>0.000000</td>\n",
       "      <td>0.333333</td>\n",
       "    </tr>\n",
       "    <tr>\n",
       "      <th>e</th>\n",
       "      <td>0</td>\n",
       "      <td>0.000000</td>\n",
       "      <td>0.000000</td>\n",
       "      <td>0.000000</td>\n",
       "      <td>0.000000</td>\n",
       "    </tr>\n",
       "  </tbody>\n",
       "</table>\n",
       "</div>"
      ],
      "text/plain": [
       "   a         b         c         d         e\n",
       "x                                           \n",
       "a  0  0.333333  0.666667  0.333333  0.333333\n",
       "b  0  0.000000  0.000000  0.333333  1.000000\n",
       "c  0  0.000000  0.000000  0.666667  0.000000\n",
       "d  0  0.000000  0.000000  0.000000  0.333333\n",
       "e  0  0.000000  0.000000  0.000000  0.000000"
      ]
     },
     "execution_count": 11,
     "metadata": {},
     "output_type": "execute_result"
    }
   ],
   "source": [
    "listToDF(m, x1.keys())"
   ]
  },
  {
   "cell_type": "code",
   "execution_count": null,
   "metadata": {},
   "outputs": [],
   "source": []
  }
 ],
 "metadata": {
  "kernelspec": {
   "display_name": "Python 3",
   "language": "python",
   "name": "python3"
  },
  "language_info": {
   "codemirror_mode": {
    "name": "ipython",
    "version": 3
   },
   "file_extension": ".py",
   "mimetype": "text/x-python",
   "name": "python",
   "nbconvert_exporter": "python",
   "pygments_lexer": "ipython3",
   "version": "3.7.0"
  }
 },
 "nbformat": 4,
 "nbformat_minor": 2
}
