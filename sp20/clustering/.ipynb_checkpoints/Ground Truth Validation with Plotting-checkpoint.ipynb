{
 "cells": [
  {
   "cell_type": "code",
   "execution_count": 1,
   "metadata": {},
   "outputs": [],
   "source": [
    "import pandas as pd\n",
    "import matplotlib.pyplot as plt\n",
    "from sklearn.cluster import KMeans\n",
    "from sklearn.preprocessing import StandardScaler\n",
    "import numpy as np\n",
    "from importHelpers.response import *\n",
    "from mlxtend.preprocessing import minmax_scaling\n",
    "from mpl_toolkits.mplot3d import Axes3D\n",
    "from sklearn.decomposition import PCA\n",
    "from sklearn.cluster import DBSCAN\n",
    "from sklearn import metrics\n",
    "from sklearn.preprocessing import StandardScaler"
   ]
  },
  {
   "cell_type": "markdown",
   "metadata": {},
   "source": [
    "### Clean\n",
    "##### We import and normalize the data."
   ]
  },
  {
   "cell_type": "code",
   "execution_count": 2,
   "metadata": {},
   "outputs": [],
   "source": [
    "xls = pd.ExcelFile(r'data\\\\191126P2_ROIAnnotationSummary_200218.xlsx')\n",
    "df = pd.read_excel(xls, 'Annotation_Summary')\n",
    "df = df[['Flash', '2P ROI', 'RBPMS', 'Syt10+', 'Syt6+', 'CAVIII', 'ChAT', 'Satb2', 'MEIS', 'CalR']]\n",
    "df = df.dropna(axis = 0, subset = [\"2P ROI\"])\n",
    "df = df[df['2P ROI'].apply(lambda x: str(x).isdigit())]\n",
    "df = df.astype({\"2P ROI\": int})\n",
    "for col in ['Syt10+', 'Syt6+', 'CAVIII', 'ChAT', 'Satb2', 'MEIS', 'CalR']:\n",
    "    df[col] = df[col].apply(lambda x: int(not pd.isna(x)))"
   ]
  },
  {
   "cell_type": "code",
   "execution_count": 3,
   "metadata": {},
   "outputs": [],
   "source": [
    "l = list(df.T)\n",
    "def name_merge(x):\n",
    "    p = [str(i[l[x]]) for _, i in df.loc[[l[x]]].to_dict().items()]\n",
    "    return p[0] + '_wave_' + str(p[1])\n",
    "name_merge(0)\n",
    "\n",
    "def uniquer(x):\n",
    "    return \"\".join([str(i[l[x]]) for _, i in df.loc[[l[x]]].to_dict().items()][2:])\n",
    "\n",
    "d = {}\n",
    "c = 0\n",
    "z = []\n",
    "for i in range(df.shape[0]):\n",
    "    u = uniquer(i)\n",
    "    if u not in d.keys():\n",
    "        d[u] = c\n",
    "        c += 1\n",
    "    z.append(d[u])\n",
    "df.insert(10, \"Class\", z)\n",
    "\n",
    "s = []\n",
    "for i in range(df.shape[0]):\n",
    "    s.append(name_merge(i))"
   ]
  },
  {
   "cell_type": "markdown",
   "metadata": {},
   "source": [
    "### Combine\n",
    "##### We combine our data into one large sheet."
   ]
  },
  {
   "cell_type": "code",
   "execution_count": 4,
   "metadata": {},
   "outputs": [
    {
     "name": "stdout",
     "output_type": "stream",
     "text": [
      "Working on sheet 2 of 8\n",
      "Working on sheet 3 of 8\n",
      "Working on sheet 4 of 8\n",
      "Working on sheet 5 of 8\n",
      "Working on sheet 6 of 8\n",
      "Working on sheet 7 of 8\n",
      "Working on sheet 8 of 8\n",
      "Sheet combination complete.\n"
     ]
    }
   ],
   "source": [
    "# FILENAME\n",
    "xlsx_filename = \"data\\\\191126P2PhysData_withlabels.xlsx\"\n",
    "excel = pd.ExcelFile(xlsx_filename)\n",
    "\n",
    "def renamer(sheet, ind):\n",
    "    l = lambda name: str(ind) + '_' + name\n",
    "    sheet = sheet.rename(index = l)\n",
    "    return sheet\n",
    "i = 0\n",
    "new_sheetnames = ['Flash_40', 'Flash_52', 'Flash_56', 'Flash_58', 'Flash_60', 'Flash_66', 'Flash_68', 'Flash_46']\n",
    "total = renamer(pd.read_excel(xlsx_filename,sheet_name=excel.sheet_names[i], header=0).T, new_sheetnames[0])\n",
    "for i in range(1, len(excel.sheet_names)):\n",
    "    print('Working on sheet ' + str(i + 1) + ' of ' + str(len(excel.sheet_names)))\n",
    "    total = total.append(renamer(pd.read_excel(xlsx_filename,sheet_name=excel.sheet_names[i], header=0).T, new_sheetnames[i]))\n",
    "print(\"Sheet combination complete.\")\n",
    "n = total\n",
    "\n",
    "def getClassByName(name):\n",
    "    return z[s.index(name)]"
   ]
  },
  {
   "cell_type": "code",
   "execution_count": 5,
   "metadata": {},
   "outputs": [],
   "source": [
    "n = n[[i in s for i in n.index]]\n",
    "n_class = []\n",
    "for name in list(n.index):\n",
    "    n_class.append(getClassByName(name))"
   ]
  },
  {
   "cell_type": "code",
   "execution_count": 6,
   "metadata": {},
   "outputs": [],
   "source": [
    "def transform(initial):\n",
    "    # remove and subtract baseline\n",
    "    # c = frameToSecDF(initial.sub(initial['baseline'], axis = 'rows').drop('baseline', axis = 1).T)\n",
    "    # drop 70\n",
    "    c = initial\n",
    "    a = [a - b > 70 for a, b in zip(list(c.max(axis = 1)), list(c.min(axis= 0)))]\n",
    "    dropped = []\n",
    "    for i in range(len(a)):\n",
    "        if not a[i]:\n",
    "            dropped.append(list(c.T)[i])\n",
    "    c = c.drop(dropped, axis = 0)\n",
    "    # -1 1 scale\n",
    "    last = c[c.columns[-15:]]\n",
    "    last = last.mean(axis=1)\n",
    "    ne = c.sub(last, axis = 0)\n",
    "    n_one = ne.div(ne.abs().max(axis = 1), axis = 0)\n",
    "    return n_one"
   ]
  },
  {
   "cell_type": "code",
   "execution_count": 7,
   "metadata": {
    "scrolled": false
   },
   "outputs": [],
   "source": [
    "#n = df\n",
    "pca = PCA(n_components=30)\n",
    "principalComponents = pca.fit_transform(n)\n",
    "principalDf = pd.DataFrame(data = principalComponents)\n",
    "pca_n = pd.DataFrame(data = pca.inverse_transform(principalComponents))\n",
    "pca_n = pca_n.rename(index={a:b for a,b in zip(range(len(list(n.T))),list(n.T))}, columns={a:b for a,b in zip(range(len(list(n))),list(n))})\n",
    "# comment next line for no PCA\n",
    "next_n = n"
   ]
  },
  {
   "cell_type": "markdown",
   "metadata": {},
   "source": [
    "### Cluster\n",
    "##### We cluster our data and check the accuracy."
   ]
  },
  {
   "cell_type": "code",
   "execution_count": 63,
   "metadata": {},
   "outputs": [
    {
     "name": "stdout",
     "output_type": "stream",
     "text": [
      "DBSCAN with your params found:\n",
      "17 classified labels\n",
      "263 unclassified points out of 603\n"
     ]
    }
   ],
   "source": [
    "db = DBSCAN(eps=3, min_samples=2).fit(principalDf)\n",
    "core_samples_mask = np.zeros_like(db.labels_, dtype=bool)\n",
    "core_samples_mask[db.core_sample_indices_] = True\n",
    "dlabels = db.labels_\n",
    "print(\"DBSCAN with your params found:\")\n",
    "print(str(max(dlabels + 1)) + \" classified labels\")\n",
    "print(str(list(dlabels).count(-1)) + ' unclassified points out of ' + str(len(dlabels)))"
   ]
  },
  {
   "cell_type": "code",
   "execution_count": 64,
   "metadata": {},
   "outputs": [],
   "source": [
    "def accuracy(dlabels, n_class):    \n",
    "    correct = 0\n",
    "    total = 0\n",
    "    for i in range(len(n_class)):\n",
    "        for j in range(i + 1, len(n_class)):\n",
    "            if (dlabels[i] == -1):\n",
    "                continue\n",
    "            if (dlabels[i] == dlabels[j]):\n",
    "                if (n_class[i] == n_class[j]):\n",
    "                    correct += 1\n",
    "                total += 1\n",
    "    print(correct / total)\n",
    "    return correct, total"
   ]
  },
  {
   "cell_type": "code",
   "execution_count": 65,
   "metadata": {},
   "outputs": [
    {
     "name": "stdout",
     "output_type": "stream",
     "text": [
      "0.5484463526912181\n"
     ]
    }
   ],
   "source": [
    "c, t = accuracy(dlabels, n_class)"
   ]
  },
  {
   "cell_type": "code",
   "execution_count": 66,
   "metadata": {},
   "outputs": [
    {
     "data": {
      "text/plain": [
       "0.5484463526912181"
      ]
     },
     "execution_count": 66,
     "metadata": {},
     "output_type": "execute_result"
    }
   ],
   "source": [
    "c/t"
   ]
  },
  {
   "cell_type": "code",
   "execution_count": 67,
   "metadata": {},
   "outputs": [
    {
     "data": {
      "text/html": [
       "<div>\n",
       "<style scoped>\n",
       "    .dataframe tbody tr th:only-of-type {\n",
       "        vertical-align: middle;\n",
       "    }\n",
       "\n",
       "    .dataframe tbody tr th {\n",
       "        vertical-align: top;\n",
       "    }\n",
       "\n",
       "    .dataframe thead th {\n",
       "        text-align: right;\n",
       "    }\n",
       "</style>\n",
       "<table border=\"1\" class=\"dataframe\">\n",
       "  <thead>\n",
       "    <tr style=\"text-align: right;\">\n",
       "      <th></th>\n",
       "      <th>0</th>\n",
       "      <th>1</th>\n",
       "      <th>2</th>\n",
       "      <th>3</th>\n",
       "      <th>4</th>\n",
       "      <th>5</th>\n",
       "      <th>6</th>\n",
       "      <th>7</th>\n",
       "      <th>8</th>\n",
       "      <th>9</th>\n",
       "      <th>...</th>\n",
       "      <th>20</th>\n",
       "      <th>21</th>\n",
       "      <th>22</th>\n",
       "      <th>23</th>\n",
       "      <th>24</th>\n",
       "      <th>25</th>\n",
       "      <th>26</th>\n",
       "      <th>27</th>\n",
       "      <th>28</th>\n",
       "      <th>29</th>\n",
       "    </tr>\n",
       "  </thead>\n",
       "  <tbody>\n",
       "    <tr>\n",
       "      <th>0</th>\n",
       "      <td>5.296242</td>\n",
       "      <td>11.438733</td>\n",
       "      <td>-1.941788</td>\n",
       "      <td>0.672688</td>\n",
       "      <td>1.512897</td>\n",
       "      <td>1.593108</td>\n",
       "      <td>-1.556878</td>\n",
       "      <td>0.166458</td>\n",
       "      <td>1.623784</td>\n",
       "      <td>-2.099839</td>\n",
       "      <td>...</td>\n",
       "      <td>-0.848804</td>\n",
       "      <td>0.449910</td>\n",
       "      <td>-0.306620</td>\n",
       "      <td>0.707912</td>\n",
       "      <td>0.665966</td>\n",
       "      <td>-0.810913</td>\n",
       "      <td>0.364751</td>\n",
       "      <td>-0.011992</td>\n",
       "      <td>0.190733</td>\n",
       "      <td>0.932099</td>\n",
       "    </tr>\n",
       "    <tr>\n",
       "      <th>1</th>\n",
       "      <td>-8.961606</td>\n",
       "      <td>0.821415</td>\n",
       "      <td>0.872051</td>\n",
       "      <td>-0.068536</td>\n",
       "      <td>-0.148502</td>\n",
       "      <td>0.373586</td>\n",
       "      <td>0.223538</td>\n",
       "      <td>-0.102673</td>\n",
       "      <td>-0.009905</td>\n",
       "      <td>0.051821</td>\n",
       "      <td>...</td>\n",
       "      <td>-0.114216</td>\n",
       "      <td>0.095280</td>\n",
       "      <td>-0.138507</td>\n",
       "      <td>0.082974</td>\n",
       "      <td>-0.149544</td>\n",
       "      <td>-0.114316</td>\n",
       "      <td>0.228797</td>\n",
       "      <td>-0.055865</td>\n",
       "      <td>-0.095102</td>\n",
       "      <td>0.129866</td>\n",
       "    </tr>\n",
       "    <tr>\n",
       "      <th>2</th>\n",
       "      <td>46.047550</td>\n",
       "      <td>9.843774</td>\n",
       "      <td>8.505736</td>\n",
       "      <td>0.669403</td>\n",
       "      <td>1.150362</td>\n",
       "      <td>3.110441</td>\n",
       "      <td>0.650291</td>\n",
       "      <td>-1.593223</td>\n",
       "      <td>2.232610</td>\n",
       "      <td>-0.454005</td>\n",
       "      <td>...</td>\n",
       "      <td>-0.616975</td>\n",
       "      <td>0.074850</td>\n",
       "      <td>-0.633611</td>\n",
       "      <td>0.549459</td>\n",
       "      <td>0.463773</td>\n",
       "      <td>-0.364180</td>\n",
       "      <td>0.199313</td>\n",
       "      <td>-0.221965</td>\n",
       "      <td>-0.192388</td>\n",
       "      <td>0.421371</td>\n",
       "    </tr>\n",
       "    <tr>\n",
       "      <th>3</th>\n",
       "      <td>6.629867</td>\n",
       "      <td>-8.005853</td>\n",
       "      <td>2.974874</td>\n",
       "      <td>-4.160257</td>\n",
       "      <td>0.386959</td>\n",
       "      <td>-0.751278</td>\n",
       "      <td>1.256460</td>\n",
       "      <td>0.203335</td>\n",
       "      <td>1.030219</td>\n",
       "      <td>0.110859</td>\n",
       "      <td>...</td>\n",
       "      <td>-0.526312</td>\n",
       "      <td>-0.158662</td>\n",
       "      <td>-0.115096</td>\n",
       "      <td>-0.033200</td>\n",
       "      <td>-0.236026</td>\n",
       "      <td>-0.334343</td>\n",
       "      <td>-0.215082</td>\n",
       "      <td>0.008013</td>\n",
       "      <td>-0.108442</td>\n",
       "      <td>0.356863</td>\n",
       "    </tr>\n",
       "    <tr>\n",
       "      <th>4</th>\n",
       "      <td>7.262711</td>\n",
       "      <td>-3.773677</td>\n",
       "      <td>-0.234283</td>\n",
       "      <td>-2.012756</td>\n",
       "      <td>-0.606126</td>\n",
       "      <td>0.253001</td>\n",
       "      <td>-0.493958</td>\n",
       "      <td>0.456840</td>\n",
       "      <td>-0.285309</td>\n",
       "      <td>0.398290</td>\n",
       "      <td>...</td>\n",
       "      <td>-0.164122</td>\n",
       "      <td>-0.023964</td>\n",
       "      <td>0.209616</td>\n",
       "      <td>0.300078</td>\n",
       "      <td>-0.384097</td>\n",
       "      <td>0.226188</td>\n",
       "      <td>-0.013780</td>\n",
       "      <td>-0.011374</td>\n",
       "      <td>-0.005103</td>\n",
       "      <td>0.084176</td>\n",
       "    </tr>\n",
       "    <tr>\n",
       "      <th>...</th>\n",
       "      <td>...</td>\n",
       "      <td>...</td>\n",
       "      <td>...</td>\n",
       "      <td>...</td>\n",
       "      <td>...</td>\n",
       "      <td>...</td>\n",
       "      <td>...</td>\n",
       "      <td>...</td>\n",
       "      <td>...</td>\n",
       "      <td>...</td>\n",
       "      <td>...</td>\n",
       "      <td>...</td>\n",
       "      <td>...</td>\n",
       "      <td>...</td>\n",
       "      <td>...</td>\n",
       "      <td>...</td>\n",
       "      <td>...</td>\n",
       "      <td>...</td>\n",
       "      <td>...</td>\n",
       "      <td>...</td>\n",
       "      <td>...</td>\n",
       "    </tr>\n",
       "    <tr>\n",
       "      <th>598</th>\n",
       "      <td>56.478581</td>\n",
       "      <td>-1.069781</td>\n",
       "      <td>5.394306</td>\n",
       "      <td>5.014743</td>\n",
       "      <td>0.146647</td>\n",
       "      <td>-3.288913</td>\n",
       "      <td>-0.864049</td>\n",
       "      <td>-0.948919</td>\n",
       "      <td>-0.655205</td>\n",
       "      <td>-1.388754</td>\n",
       "      <td>...</td>\n",
       "      <td>0.540207</td>\n",
       "      <td>-1.289464</td>\n",
       "      <td>-0.589563</td>\n",
       "      <td>-0.823798</td>\n",
       "      <td>0.434301</td>\n",
       "      <td>0.533213</td>\n",
       "      <td>0.762063</td>\n",
       "      <td>-0.105738</td>\n",
       "      <td>-0.066573</td>\n",
       "      <td>0.208553</td>\n",
       "    </tr>\n",
       "    <tr>\n",
       "      <th>599</th>\n",
       "      <td>0.900329</td>\n",
       "      <td>2.081248</td>\n",
       "      <td>-2.569101</td>\n",
       "      <td>-1.646001</td>\n",
       "      <td>-5.225555</td>\n",
       "      <td>4.446586</td>\n",
       "      <td>1.032229</td>\n",
       "      <td>0.894688</td>\n",
       "      <td>0.777157</td>\n",
       "      <td>0.931601</td>\n",
       "      <td>...</td>\n",
       "      <td>1.838356</td>\n",
       "      <td>0.061765</td>\n",
       "      <td>0.421710</td>\n",
       "      <td>0.331686</td>\n",
       "      <td>-0.341397</td>\n",
       "      <td>-0.087614</td>\n",
       "      <td>-0.037755</td>\n",
       "      <td>0.092054</td>\n",
       "      <td>0.860092</td>\n",
       "      <td>-0.357990</td>\n",
       "    </tr>\n",
       "    <tr>\n",
       "      <th>600</th>\n",
       "      <td>86.069387</td>\n",
       "      <td>4.911019</td>\n",
       "      <td>-8.700686</td>\n",
       "      <td>-3.982611</td>\n",
       "      <td>5.676211</td>\n",
       "      <td>-5.117172</td>\n",
       "      <td>9.869552</td>\n",
       "      <td>2.054305</td>\n",
       "      <td>5.325421</td>\n",
       "      <td>-0.927324</td>\n",
       "      <td>...</td>\n",
       "      <td>1.085215</td>\n",
       "      <td>2.096575</td>\n",
       "      <td>0.242512</td>\n",
       "      <td>-0.209664</td>\n",
       "      <td>0.434316</td>\n",
       "      <td>-0.833985</td>\n",
       "      <td>0.624363</td>\n",
       "      <td>-0.282178</td>\n",
       "      <td>-0.286373</td>\n",
       "      <td>0.224959</td>\n",
       "    </tr>\n",
       "    <tr>\n",
       "      <th>601</th>\n",
       "      <td>-2.663390</td>\n",
       "      <td>3.564411</td>\n",
       "      <td>1.047435</td>\n",
       "      <td>0.087165</td>\n",
       "      <td>-1.445347</td>\n",
       "      <td>0.126223</td>\n",
       "      <td>0.728677</td>\n",
       "      <td>0.323571</td>\n",
       "      <td>1.117575</td>\n",
       "      <td>-0.380801</td>\n",
       "      <td>...</td>\n",
       "      <td>0.191265</td>\n",
       "      <td>0.346384</td>\n",
       "      <td>-0.562886</td>\n",
       "      <td>-0.088753</td>\n",
       "      <td>0.297879</td>\n",
       "      <td>0.266931</td>\n",
       "      <td>-0.554825</td>\n",
       "      <td>0.324423</td>\n",
       "      <td>-0.227923</td>\n",
       "      <td>0.341419</td>\n",
       "    </tr>\n",
       "    <tr>\n",
       "      <th>602</th>\n",
       "      <td>-22.709063</td>\n",
       "      <td>0.041991</td>\n",
       "      <td>-2.249121</td>\n",
       "      <td>-0.765698</td>\n",
       "      <td>0.067335</td>\n",
       "      <td>0.423351</td>\n",
       "      <td>0.004722</td>\n",
       "      <td>0.580567</td>\n",
       "      <td>0.473852</td>\n",
       "      <td>0.150237</td>\n",
       "      <td>...</td>\n",
       "      <td>0.414118</td>\n",
       "      <td>-0.123561</td>\n",
       "      <td>-0.513917</td>\n",
       "      <td>-0.270670</td>\n",
       "      <td>0.714482</td>\n",
       "      <td>0.260941</td>\n",
       "      <td>-0.155110</td>\n",
       "      <td>0.357669</td>\n",
       "      <td>-0.707748</td>\n",
       "      <td>0.162137</td>\n",
       "    </tr>\n",
       "  </tbody>\n",
       "</table>\n",
       "<p>603 rows × 30 columns</p>\n",
       "</div>"
      ],
      "text/plain": [
       "            0          1         2         3         4         5         6   \\\n",
       "0     5.296242  11.438733 -1.941788  0.672688  1.512897  1.593108 -1.556878   \n",
       "1    -8.961606   0.821415  0.872051 -0.068536 -0.148502  0.373586  0.223538   \n",
       "2    46.047550   9.843774  8.505736  0.669403  1.150362  3.110441  0.650291   \n",
       "3     6.629867  -8.005853  2.974874 -4.160257  0.386959 -0.751278  1.256460   \n",
       "4     7.262711  -3.773677 -0.234283 -2.012756 -0.606126  0.253001 -0.493958   \n",
       "..         ...        ...       ...       ...       ...       ...       ...   \n",
       "598  56.478581  -1.069781  5.394306  5.014743  0.146647 -3.288913 -0.864049   \n",
       "599   0.900329   2.081248 -2.569101 -1.646001 -5.225555  4.446586  1.032229   \n",
       "600  86.069387   4.911019 -8.700686 -3.982611  5.676211 -5.117172  9.869552   \n",
       "601  -2.663390   3.564411  1.047435  0.087165 -1.445347  0.126223  0.728677   \n",
       "602 -22.709063   0.041991 -2.249121 -0.765698  0.067335  0.423351  0.004722   \n",
       "\n",
       "           7         8         9   ...        20        21        22  \\\n",
       "0    0.166458  1.623784 -2.099839  ... -0.848804  0.449910 -0.306620   \n",
       "1   -0.102673 -0.009905  0.051821  ... -0.114216  0.095280 -0.138507   \n",
       "2   -1.593223  2.232610 -0.454005  ... -0.616975  0.074850 -0.633611   \n",
       "3    0.203335  1.030219  0.110859  ... -0.526312 -0.158662 -0.115096   \n",
       "4    0.456840 -0.285309  0.398290  ... -0.164122 -0.023964  0.209616   \n",
       "..        ...       ...       ...  ...       ...       ...       ...   \n",
       "598 -0.948919 -0.655205 -1.388754  ...  0.540207 -1.289464 -0.589563   \n",
       "599  0.894688  0.777157  0.931601  ...  1.838356  0.061765  0.421710   \n",
       "600  2.054305  5.325421 -0.927324  ...  1.085215  2.096575  0.242512   \n",
       "601  0.323571  1.117575 -0.380801  ...  0.191265  0.346384 -0.562886   \n",
       "602  0.580567  0.473852  0.150237  ...  0.414118 -0.123561 -0.513917   \n",
       "\n",
       "           23        24        25        26        27        28        29  \n",
       "0    0.707912  0.665966 -0.810913  0.364751 -0.011992  0.190733  0.932099  \n",
       "1    0.082974 -0.149544 -0.114316  0.228797 -0.055865 -0.095102  0.129866  \n",
       "2    0.549459  0.463773 -0.364180  0.199313 -0.221965 -0.192388  0.421371  \n",
       "3   -0.033200 -0.236026 -0.334343 -0.215082  0.008013 -0.108442  0.356863  \n",
       "4    0.300078 -0.384097  0.226188 -0.013780 -0.011374 -0.005103  0.084176  \n",
       "..        ...       ...       ...       ...       ...       ...       ...  \n",
       "598 -0.823798  0.434301  0.533213  0.762063 -0.105738 -0.066573  0.208553  \n",
       "599  0.331686 -0.341397 -0.087614 -0.037755  0.092054  0.860092 -0.357990  \n",
       "600 -0.209664  0.434316 -0.833985  0.624363 -0.282178 -0.286373  0.224959  \n",
       "601 -0.088753  0.297879  0.266931 -0.554825  0.324423 -0.227923  0.341419  \n",
       "602 -0.270670  0.714482  0.260941 -0.155110  0.357669 -0.707748  0.162137  \n",
       "\n",
       "[603 rows x 30 columns]"
      ]
     },
     "execution_count": 67,
     "metadata": {},
     "output_type": "execute_result"
    }
   ],
   "source": [
    "principalDf"
   ]
  },
  {
   "cell_type": "code",
   "execution_count": 68,
   "metadata": {},
   "outputs": [],
   "source": [
    "colors = ['#e6194b', '#3cb44b', '#ffe119', '#4363d8', '#f58231', '#911eb4', '#46f0f0', '#f032e6', '#bcf60c', '#fabebe', '#008080', '#e6beff', '#9a6324', '#fffac8', '#800000', '#aaffc3', '#808000', '#ffd8b1', '#000075', '#808080', '#ffffff', '#000000']\n",
    "plotcolors = [colors[i] for i in dlabels]"
   ]
  },
  {
   "cell_type": "markdown",
   "metadata": {},
   "source": [
    "### Plotting\n",
    "#### We plot the principal components with their ground truth colors below. The black color represents unclassified."
   ]
  },
  {
   "cell_type": "code",
   "execution_count": 69,
   "metadata": {},
   "outputs": [
    {
     "data": {
      "text/plain": [
       "<matplotlib.axes._subplots.AxesSubplot at 0x4b0cff0>"
      ]
     },
     "execution_count": 69,
     "metadata": {},
     "output_type": "execute_result"
    },
    {
     "data": {
      "image/png": "[encoded data removed]",
      "text/plain": [
       "<Figure size 432x288 with 1 Axes>"
      ]
     },
     "metadata": {
      "needs_background": "light"
     },
     "output_type": "display_data"
    }
   ],
   "source": [
    "principalDf.iloc[:,0:2].plot(kind='scatter',x=0, y=1, color=plotcolors)"
   ]
  },
  {
   "cell_type": "code",
   "execution_count": 70,
   "metadata": {},
   "outputs": [],
   "source": [
    "colors = ['#e6194b', '#3cb44b', '#ffe119', '#4363d8', '#f58231', '#911eb4', '#46f0f0', '#f032e6', '#bcf60c', '#fabebe', '#008080', '#e6beff', '#9a6324', '#fffac8', '#800000', '#aaffc3', '#808000', '#ffd8b1', '#000075', '#808080', '#ffffff', '#1C00ff00']\n",
    "plotcolors = [colors[i] for i in dlabels]"
   ]
  },
  {
   "cell_type": "markdown",
   "metadata": {},
   "source": [
    "#### We plot the principal components with their ground truth colors below. In this case, we have removed the unclassified points."
   ]
  },
  {
   "cell_type": "code",
   "execution_count": 71,
   "metadata": {},
   "outputs": [
    {
     "data": {
      "text/plain": [
       "<matplotlib.axes._subplots.AxesSubplot at 0x4b51cf0>"
      ]
     },
     "execution_count": 71,
     "metadata": {},
     "output_type": "execute_result"
    },
    {
     "data": {
      "image/png": "[encoded data removed]",
      "text/plain": [
       "<Figure size 432x288 with 1 Axes>"
      ]
     },
     "metadata": {
      "needs_background": "light"
     },
     "output_type": "display_data"
    }
   ],
   "source": [
    "principalDf.iloc[:,0:2].plot(kind='scatter',x=0, y=1, color=plotcolors)"
   ]
  }
 ],
 "metadata": {
  "kernelspec": {
   "display_name": "Python 3",
   "language": "python",
   "name": "python3"
  },
  "language_info": {
   "codemirror_mode": {
    "name": "ipython",
    "version": 3
   },
   "file_extension": ".py",
   "mimetype": "text/x-python",
   "name": "python",
   "nbconvert_exporter": "python",
   "pygments_lexer": "ipython3",
   "version": "3.7.0"
  }
 },
 "nbformat": 4,
 "nbformat_minor": 2
}
